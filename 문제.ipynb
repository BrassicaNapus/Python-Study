{
  "nbformat": 4,
  "nbformat_minor": 0,
  "metadata": {
    "colab": {
      "name": "문제",
      "provenance": [],
      "authorship_tag": "ABX9TyPQNa0sSxW5umcAXifkQ36V",
      "include_colab_link": true
    },
    "kernelspec": {
      "name": "python3",
      "display_name": "Python 3"
    }
  },
  "cells": [
    {
      "cell_type": "markdown",
      "metadata": {
        "id": "view-in-github",
        "colab_type": "text"
      },
      "source": [
        "<a href=\"https://colab.research.google.com/github/yujungha/python-study/blob/main/%EB%AC%B8%EC%A0%9C.ipynb\" target=\"_parent\"><img src=\"https://colab.research.google.com/assets/colab-badge.svg\" alt=\"Open In Colab\"/></a>"
      ]
    },
    {
      "cell_type": "code",
      "metadata": {
        "id": "FgcVsm5bvuyr",
        "colab": {
          "base_uri": "https://localhost:8080/"
        },
        "outputId": "1f543285-acee-4dbb-99f6-515db137c926"
      },
      "source": [
        "print('Hello World!')"
      ],
      "execution_count": null,
      "outputs": [
        {
          "output_type": "stream",
          "text": [
            "Hello World!\n"
          ],
          "name": "stdout"
        }
      ]
    },
    {
      "cell_type": "code",
      "metadata": {
        "colab": {
          "base_uri": "https://localhost:8080/"
        },
        "id": "_qHSztryzQG1",
        "outputId": "d5625df2-8dd0-41f8-842a-771bc2dd4e2d"
      },
      "source": [
        "for i in range(2):\r\n",
        "  print('강한친구 대한육군')"
      ],
      "execution_count": null,
      "outputs": [
        {
          "output_type": "stream",
          "text": [
            "강한친구 대한육군\n",
            "강한친구 대한육군\n"
          ],
          "name": "stdout"
        }
      ]
    },
    {
      "cell_type": "code",
      "metadata": {
        "colab": {
          "base_uri": "https://localhost:8080/"
        },
        "id": "zs9e69OTztbO",
        "outputId": "2ff666fd-4e6f-4ef2-c283-212771aa2043"
      },
      "source": [
        "text = input()\r\n",
        "t = text.split(' ')\r\n",
        "a = int(t[0])\r\n",
        "b = int(t[1])\r\n",
        "\r\n",
        "print(a + b)"
      ],
      "execution_count": null,
      "outputs": [
        {
          "output_type": "stream",
          "text": [
            "1 2\n",
            "3\n"
          ],
          "name": "stdout"
        }
      ]
    },
    {
      "cell_type": "code",
      "metadata": {
        "id": "HoNzEVum0dfz",
        "colab": {
          "base_uri": "https://localhost:8080/"
        },
        "outputId": "1e774c4c-80e6-4ab9-d16f-610c5f54ceb5"
      },
      "source": [
        "text = input()\r\n",
        "t = text.split(' ')\r\n",
        "a = int(t[0])\r\n",
        "b = int(t[1])\r\n",
        "\r\n",
        "print(a - b)"
      ],
      "execution_count": null,
      "outputs": [
        {
          "output_type": "stream",
          "text": [
            "3 2\n",
            "1\n"
          ],
          "name": "stdout"
        }
      ]
    },
    {
      "cell_type": "code",
      "metadata": {
        "colab": {
          "base_uri": "https://localhost:8080/"
        },
        "id": "WtQBzVX83y0_",
        "outputId": "300089e3-415e-42cb-f384-d7493be7005c"
      },
      "source": [
        "text = input()\r\n",
        "t = text.split(' ')\r\n",
        "a = int(t[0])\r\n",
        "b = int(t[1])\r\n",
        "\r\n",
        "print(a * b)"
      ],
      "execution_count": null,
      "outputs": [
        {
          "output_type": "stream",
          "text": [
            "2 3\n",
            "6\n"
          ],
          "name": "stdout"
        }
      ]
    },
    {
      "cell_type": "code",
      "metadata": {
        "colab": {
          "base_uri": "https://localhost:8080/"
        },
        "id": "7O3UYtWw32en",
        "outputId": "4e53fccc-198a-4d65-f1dc-bd484f662f7e"
      },
      "source": [
        "text = input()\r\n",
        "t = text.split(' ')\r\n",
        "a = int(t[0])\r\n",
        "b = int(t[1])\r\n",
        "\r\n",
        "print(a / b)"
      ],
      "execution_count": null,
      "outputs": [
        {
          "output_type": "stream",
          "text": [
            "9 3\n",
            "3.0\n"
          ],
          "name": "stdout"
        }
      ]
    },
    {
      "cell_type": "code",
      "metadata": {
        "colab": {
          "base_uri": "https://localhost:8080/"
        },
        "id": "ttFsu4Ya36Rg",
        "outputId": "4743e83a-2f28-451b-d24d-6a0328874988"
      },
      "source": [
        "text = input()\r\n",
        "t = text.split(' ')\r\n",
        "a = int(t[0])\r\n",
        "b = int(t[1])\r\n",
        "\r\n",
        "print(a + b)\r\n",
        "print(a - b)\r\n",
        "print(a * b)\r\n",
        "print(a // b)\r\n",
        "print(a % b)"
      ],
      "execution_count": null,
      "outputs": [
        {
          "output_type": "stream",
          "text": [
            "4 2\n",
            "6\n",
            "2\n",
            "8\n",
            "2\n",
            "0\n"
          ],
          "name": "stdout"
        }
      ]
    },
    {
      "cell_type": "code",
      "metadata": {
        "colab": {
          "base_uri": "https://localhost:8080/"
        },
        "id": "2OhoXpKr4u0I",
        "outputId": "fa2d9e16-8351-4dae-93dd-3b0d480ea29e"
      },
      "source": [
        "text = input()\r\n",
        "t = text.split(' ')\r\n",
        "a = int(t[0])\r\n",
        "b = int(t[1])\r\n",
        "c = int(t[2])\r\n",
        "\r\n",
        "print((a + b) % c)\r\n",
        "print(((a % c) + (b % c)) % c)\r\n",
        "print((a * b) % c)\r\n",
        "print(((a % c) * (b % c)) % c)"
      ],
      "execution_count": null,
      "outputs": [
        {
          "output_type": "stream",
          "text": [
            "5 8 4\n",
            "1\n",
            "1\n",
            "0\n",
            "0\n"
          ],
          "name": "stdout"
        }
      ]
    },
    {
      "cell_type": "code",
      "metadata": {
        "id": "SBxnFr6m7cF8",
        "colab": {
          "base_uri": "https://localhost:8080/"
        },
        "outputId": "d095997d-9060-4c39-bf6a-fc67e16eb669"
      },
      "source": [
        "text = input()\r\n",
        "t = text.split(' ')\r\n",
        "a = int(t[0])\r\n",
        "b = int(t[1])\r\n",
        "\r\n",
        "if a > b :\r\n",
        "  print('>')\r\n",
        "elif a < b :\r\n",
        "  print('<')\r\n",
        "else :\r\n",
        "  print('==')"
      ],
      "execution_count": null,
      "outputs": [
        {
          "output_type": "stream",
          "text": [
            "2 2\n",
            "==\n"
          ],
          "name": "stdout"
        }
      ]
    },
    {
      "cell_type": "code",
      "metadata": {
        "colab": {
          "base_uri": "https://localhost:8080/"
        },
        "id": "kMbCrJS1PW43",
        "outputId": "35c4c9c7-4aec-4797-ebf7-566d19e37690"
      },
      "source": [
        "n = int(input())\r\n",
        "if n >= 90 :\r\n",
        "  print('A')\r\n",
        "elif n >= 80 :\r\n",
        "  print('B')\r\n",
        "elif n >= 70 :\r\n",
        "  print('C')\r\n",
        "elif n >= 60 :\r\n",
        "  print('D')\r\n",
        "else :\r\n",
        "  print('F')"
      ],
      "execution_count": null,
      "outputs": [
        {
          "output_type": "stream",
          "text": [
            "100\n",
            "A\n"
          ],
          "name": "stdout"
        }
      ]
    },
    {
      "cell_type": "code",
      "metadata": {
        "colab": {
          "base_uri": "https://localhost:8080/"
        },
        "id": "NbKEy6V5QiHf",
        "outputId": "75ff8cd3-3a04-4424-b727-ae55fab46bd6"
      },
      "source": [
        "n = int(input())\r\n",
        "l = []\r\n",
        "for i in range(n) :\r\n",
        "  text = input()\r\n",
        "  t = text.split(' ')\r\n",
        "  a = int(t[0])\r\n",
        "  b = int(t[1])\r\n",
        "  l.append(a + b)\r\n",
        "\r\n",
        "for i in range(len(l)) :\r\n",
        "  print(l[i])"
      ],
      "execution_count": null,
      "outputs": [
        {
          "output_type": "stream",
          "text": [
            "5\n",
            "1 1\n",
            "2 3\n",
            "3 4\n",
            "9 8\n",
            "5 2\n",
            "2\n",
            "5\n",
            "7\n",
            "17\n",
            "7\n"
          ],
          "name": "stdout"
        }
      ]
    },
    {
      "cell_type": "code",
      "metadata": {
        "colab": {
          "base_uri": "https://localhost:8080/"
        },
        "id": "cZzma3yaSsnT",
        "outputId": "fe93bad6-2b5b-4b87-8edb-7d73f35d84bd"
      },
      "source": [
        "n = int(input())\r\n",
        "for i in range(n) :\r\n",
        "  print(i + 1)"
      ],
      "execution_count": null,
      "outputs": [
        {
          "output_type": "stream",
          "text": [
            "5\n",
            "1\n",
            "2\n",
            "3\n",
            "4\n",
            "5\n"
          ],
          "name": "stdout"
        }
      ]
    },
    {
      "cell_type": "code",
      "metadata": {
        "colab": {
          "base_uri": "https://localhost:8080/"
        },
        "id": "-ThY9nrMXQ4L",
        "outputId": "1665ad31-c043-453d-e63d-f5ecc8b0e6c6"
      },
      "source": [
        "l = [0, 0, 1, 2, 3, 4]\r\n",
        "l.count(0)"
      ],
      "execution_count": null,
      "outputs": [
        {
          "output_type": "execute_result",
          "data": {
            "text/plain": [
              "2"
            ]
          },
          "metadata": {
            "tags": []
          },
          "execution_count": 1
        }
      ]
    },
    {
      "cell_type": "code",
      "metadata": {
        "colab": {
          "base_uri": "https://localhost:8080/"
        },
        "id": "g_YzeAV4cTKS",
        "outputId": "59620f31-c605-4432-f807-38b7e1dd498b"
      },
      "source": [
        "a = int(input())\r\n",
        "b = int(input())\r\n",
        "c = int(input())\r\n",
        "d = a * b * c\r\n",
        "l = list(str(d))\r\n",
        "print(d)\r\n",
        "print(l)\r\n",
        "\r\n",
        "for i in range(10) :\r\n",
        "  res = l.count(str(i))\r\n",
        "  print(res)"
      ],
      "execution_count": null,
      "outputs": [
        {
          "output_type": "stream",
          "text": [
            "150\n",
            "266\n",
            "427\n",
            "17037300\n",
            "['1', '7', '0', '3', '7', '3', '0', '0']\n",
            "3\n",
            "1\n",
            "0\n",
            "2\n",
            "0\n",
            "0\n",
            "0\n",
            "2\n",
            "0\n",
            "0\n"
          ],
          "name": "stdout"
        }
      ]
    },
    {
      "cell_type": "code",
      "metadata": {
        "colab": {
          "base_uri": "https://localhost:8080/"
        },
        "id": "l0NDc-hPd0NE",
        "outputId": "4165b149-0943-4d89-f716-738647db8b84"
      },
      "source": [
        "l = []\r\n",
        "t = []\r\n",
        "for i in range(10) :\r\n",
        "  n = int(input())\r\n",
        "  l.append(n)\r\n",
        "  res = l[i] % 42\r\n",
        "  t.append(res)\r\n",
        "print(t)"
      ],
      "execution_count": null,
      "outputs": [
        {
          "output_type": "stream",
          "text": [
            "1\n",
            "2\n",
            "3\n",
            "4\n",
            "5\n",
            "6\n",
            "7\n",
            "8\n",
            "9\n",
            "10\n",
            "[1, 2, 3, 4, 5, 6, 7, 8, 9, 10]\n"
          ],
          "name": "stdout"
        }
      ]
    },
    {
      "cell_type": "code",
      "metadata": {
        "colab": {
          "base_uri": "https://localhost:8080/"
        },
        "id": "7pJZve4atISo",
        "outputId": "f3e5655b-0fea-41d2-fdf9-4047955f632a"
      },
      "source": [
        "n = int(input())\r\n",
        "\r\n",
        "text = input()\r\n",
        "t = text.split(' ')\r\n",
        "t = list(map(int, t))\r\n",
        "\r\n",
        "b = 0\r\n",
        "for i in range(n) :\r\n",
        "  a = t[i] / max(t) * 100\r\n",
        "  b += a\r\n",
        "\r\n",
        "print(b / n)"
      ],
      "execution_count": null,
      "outputs": [
        {
          "output_type": "stream",
          "text": [
            "4\n",
            "1 100 100 100\n",
            "75.25\n"
          ],
          "name": "stdout"
        }
      ]
    },
    {
      "cell_type": "code",
      "metadata": {
        "colab": {
          "base_uri": "https://localhost:8080/",
          "height": 36
        },
        "id": "InB-5yY-bCZT",
        "outputId": "da8d2e20-dadf-452b-ff52-760f9fe2e9df"
      },
      "source": [
        "'안녕'*3"
      ],
      "execution_count": null,
      "outputs": [
        {
          "output_type": "execute_result",
          "data": {
            "application/vnd.google.colaboratory.intrinsic+json": {
              "type": "string"
            },
            "text/plain": [
              "'안녕안녕안녕'"
            ]
          },
          "metadata": {
            "tags": []
          },
          "execution_count": 3
        }
      ]
    },
    {
      "cell_type": "code",
      "metadata": {
        "id": "pZuPya5oyzX1",
        "colab": {
          "base_uri": "https://localhost:8080/"
        },
        "outputId": "d47542a9-49bc-4cc3-c82a-cf171467e7e8"
      },
      "source": [
        "n = int(input())\r\n",
        "for i in range(1, n+1):\r\n",
        "  for j in range(i):\r\n",
        "    print(i*j, end='')\r\n",
        "  print()"
      ],
      "execution_count": null,
      "outputs": [
        {
          "output_type": "stream",
          "text": [
            "5\n",
            "0020360481205101520"
          ],
          "name": "stdout"
        }
      ]
    },
    {
      "cell_type": "code",
      "metadata": {
        "colab": {
          "base_uri": "https://localhost:8080/"
        },
        "id": "qNCUfrB_chXF",
        "outputId": "2970f1b1-f3f6-4f43-fa9f-6255688c2cc9"
      },
      "source": [
        "for j in range(1):\r\n",
        "    print(j, end='')\r\n",
        "print()\r\n",
        "for j in range(2):\r\n",
        "    print(j, end='')\r\n",
        "print()\r\n",
        "for j in range(3):\r\n",
        "    print(j, end='')\r\n",
        "print()\r\n",
        "for j in range(4):\r\n",
        "    print(j, end='')\r\n",
        "print()\r\n",
        "for j in range(5):\r\n",
        "    print(j, end='')\r\n",
        "print()"
      ],
      "execution_count": null,
      "outputs": [
        {
          "output_type": "stream",
          "text": [
            "0\n",
            "01\n",
            "012\n",
            "0123\n",
            "01234\n"
          ],
          "name": "stdout"
        }
      ]
    },
    {
      "cell_type": "code",
      "metadata": {
        "colab": {
          "base_uri": "https://localhost:8080/"
        },
        "id": "I1sd_p-udzVr",
        "outputId": "b226b838-83d2-4202-d05d-507671bacb17"
      },
      "source": [
        "n = int(input())\r\n",
        "for i in range(n):\r\n",
        "  for j in range(i+1):\r\n",
        "    print(' ', end='')\r\n",
        "  for j in range((n-1-i)*2+1):\r\n",
        "    print('*', end='')\r\n",
        "  print()"
      ],
      "execution_count": null,
      "outputs": [
        {
          "output_type": "stream",
          "text": [
            "4\n",
            " *******\n",
            "  *****\n",
            "   ***\n",
            "    *\n"
          ],
          "name": "stdout"
        }
      ]
    },
    {
      "cell_type": "code",
      "metadata": {
        "colab": {
          "base_uri": "https://localhost:8080/"
        },
        "id": "1lsLeKP5rzBq",
        "outputId": "3c23f64a-08f4-4ae1-a7d8-3a3bd7c7786d"
      },
      "source": [
        "n = int(input())\r\n",
        "for i in range(n):\r\n",
        "  print('*'*i + ' '*((n-1-i)*2+1) + '*'*i)\r\n",
        "for i in range(2*n-1):\r\n",
        "  print('*', end='')"
      ],
      "execution_count": null,
      "outputs": [
        {
          "output_type": "stream",
          "text": [
            "3\n",
            "     \n",
            "*   *\n",
            "** **\n",
            "*****"
          ],
          "name": "stdout"
        }
      ]
    },
    {
      "cell_type": "code",
      "metadata": {
        "colab": {
          "base_uri": "https://localhost:8080/"
        },
        "id": "iST1DaF7SAv6",
        "outputId": "62ca7d6d-d1ca-489b-c6c8-2152ad4a9e36"
      },
      "source": [
        "n = int(input())\r\n",
        "for i in range(n):\r\n",
        "  for j in range(i):\r\n",
        "    print('*', end='')\r\n",
        "  for j in range((n-1-i)*2+1):\r\n",
        "    print(' ', end='')\r\n",
        "  for i in range(i):\r\n",
        "    print('*', end='')\r\n",
        "  print()\r\n",
        "for i in range(2*n-1):\r\n",
        "  print('*', end='')"
      ],
      "execution_count": null,
      "outputs": [
        {
          "output_type": "stream",
          "text": [
            "3\n",
            "     \n",
            "*   *\n",
            "** **\n",
            "*****"
          ],
          "name": "stdout"
        }
      ]
    },
    {
      "cell_type": "code",
      "metadata": {
        "colab": {
          "base_uri": "https://localhost:8080/"
        },
        "id": "Ko_bmOFPAxHH",
        "outputId": "f9ab8505-da0b-47ff-db26-9dba4eac7892"
      },
      "source": [
        "n = int(input())\r\n",
        "for i in range(1, n):\r\n",
        "  print('*'*i + ' '*((n-1-i)*2+2) + '*'*i)\r\n",
        "for i in range(2*n):\r\n",
        "  print('*', end='')"
      ],
      "execution_count": null,
      "outputs": [
        {
          "output_type": "stream",
          "text": [
            "3\n",
            "*    *\n",
            "**  **\n",
            "******"
          ],
          "name": "stdout"
        }
      ]
    },
    {
      "cell_type": "code",
      "metadata": {
        "colab": {
          "base_uri": "https://localhost:8080/"
        },
        "id": "5LDdR8HmS361",
        "outputId": "93bc036d-44e6-406f-d077-ad97a68e1a28"
      },
      "source": [
        "n = int(input())\r\n",
        "for i in range(1, n):\r\n",
        "  for j in range(i):\r\n",
        "    print('*', end='')\r\n",
        "  for j in range((n-1-i)*2+2):\r\n",
        "    print(' ', end='')\r\n",
        "  for j in range(i):\r\n",
        "    print('*', end='')\r\n",
        "  print()\r\n",
        "for i in range(2*n):\r\n",
        "  print('*', end='')"
      ],
      "execution_count": null,
      "outputs": [
        {
          "output_type": "stream",
          "text": [
            "3\n",
            "*    *\n",
            "**  **\n",
            "******"
          ],
          "name": "stdout"
        }
      ]
    },
    {
      "cell_type": "code",
      "metadata": {
        "colab": {
          "base_uri": "https://localhost:8080/"
        },
        "id": "xEsDwvz2K4_1",
        "outputId": "9605f3ce-7af0-4358-c667-de666003dbf7"
      },
      "source": [
        "n = int(input())\r\n",
        "a = 1\r\n",
        "for i in range(n):\r\n",
        "  for j in range(n-1-i):\r\n",
        "    print(' ', end='')\r\n",
        "  for j in range(2*i+1):\r\n",
        "    print(a, end='')\r\n",
        "    a+=1\r\n",
        "  print()"
      ],
      "execution_count": 2,
      "outputs": [
        {
          "output_type": "stream",
          "text": [
            "3\n",
            "  1\n",
            " 234\n",
            "56789\n"
          ],
          "name": "stdout"
        }
      ]
    },
    {
      "cell_type": "code",
      "metadata": {
        "id": "hzhfOvu1JejW"
      },
      "source": [
        "0"
      ],
      "execution_count": null,
      "outputs": []
    }
  ]
}