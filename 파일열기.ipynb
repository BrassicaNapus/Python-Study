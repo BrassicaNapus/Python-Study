{
  "nbformat": 4,
  "nbformat_minor": 0,
  "metadata": {
    "colab": {
      "name": "파일열기.ipynb",
      "provenance": [],
      "authorship_tag": "ABX9TyOQQhIBT/EIhtCpDLQw3vX6",
      "include_colab_link": true
    },
    "kernelspec": {
      "name": "python3",
      "display_name": "Python 3"
    },
    "language_info": {
      "name": "python"
    }
  },
  "cells": [
    {
      "cell_type": "markdown",
      "metadata": {
        "id": "view-in-github",
        "colab_type": "text"
      },
      "source": [
        "<a href=\"https://colab.research.google.com/github/yujungha/Python-Study/blob/main/%ED%8C%8C%EC%9D%BC%EC%97%B4%EA%B8%B0.ipynb\" target=\"_parent\"><img src=\"https://colab.research.google.com/assets/colab-badge.svg\" alt=\"Open In Colab\"/></a>"
      ]
    },
    {
      "cell_type": "code",
      "metadata": {
        "id": "32qGLfqVfSOQ"
      },
      "source": [
        "with open('data/chicken.txt', 'r') as f:\n",
        "    total = 0\n",
        "    date = 0\n",
        "    for line in f:\n",
        "        line = str(line.strip())\n",
        "        sales = int(line[line.find(': ')+1:])\n",
        "        total += sales\n",
        "        date += 1\n",
        "    print(total / date)"
      ],
      "execution_count": null,
      "outputs": []
    },
    {
      "cell_type": "code",
      "metadata": {
        "id": "bqsGNks8hlHD"
      },
      "source": [
        "with open('vocabulary.txt', 'w') as f:\n",
        "  \n",
        "  while True:\n",
        "    eng = input(\"영어 단어를 입력하세요: \")\n",
        "    if eng == 'q':\n",
        "      break\n",
        "    kor = input(\"한국어 뜻을 입력하세요: \")\n",
        "    if kor == 'q':\n",
        "      break\n",
        "    f.write('{}: {}\\n'.format(eng, kor))"
      ],
      "execution_count": null,
      "outputs": []
    }
  ]
}