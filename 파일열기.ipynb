{
  "nbformat": 4,
  "nbformat_minor": 0,
  "metadata": {
    "colab": {
      "name": "파일열기.ipynb",
      "provenance": [],
      "authorship_tag": "ABX9TyMHC9zeX/jdvBP+Qr0jg193",
      "include_colab_link": true
    },
    "kernelspec": {
      "name": "python3",
      "display_name": "Python 3"
    },
    "language_info": {
      "name": "python"
    }
  },
  "cells": [
    {
      "cell_type": "markdown",
      "metadata": {
        "id": "view-in-github",
        "colab_type": "text"
      },
      "source": [
        "<a href=\"https://colab.research.google.com/github/yujungha/Python-Study/blob/main/%ED%8C%8C%EC%9D%BC%EC%97%B4%EA%B8%B0.ipynb\" target=\"_parent\"><img src=\"https://colab.research.google.com/assets/colab-badge.svg\" alt=\"Open In Colab\"/></a>"
      ]
    },
    {
      "cell_type": "code",
      "metadata": {
        "id": "32qGLfqVfSOQ"
      },
      "source": [
        "with open('data/chicken.txt', 'r') as f:\n",
        "    total = 0\n",
        "    date = 0\n",
        "    for line in f:\n",
        "        line = str(line.strip())\n",
        "        sales = int(line[line.find(': ')+1:])\n",
        "        total += sales\n",
        "        date += 1\n",
        "    print(total / date)"
      ],
      "execution_count": null,
      "outputs": []
    },
    {
      "cell_type": "code",
      "metadata": {
        "id": "bqsGNks8hlHD",
        "colab": {
          "base_uri": "https://localhost:8080/"
        },
        "outputId": "f912b704-ca14-41fd-e3c8-94c96b68ba2c"
      },
      "source": [
        "with open('vocabulary.txt', 'w') as f:\n",
        "  \n",
        "  while True:\n",
        "    eng = input(\"영어 단어를 입력하세요: \")\n",
        "    if eng == 'q':\n",
        "      break\n",
        "    kor = input(\"한국어 뜻을 입력하세요: \")\n",
        "    if kor == 'q':\n",
        "      break\n",
        "    # f.write(eng, ':', kor)\n",
        "    f.write('{}: {}\\n'.format(eng, kor))"
      ],
      "execution_count": 2,
      "outputs": [
        {
          "output_type": "stream",
          "text": [
            "영어 단어를 입력하세요: cat\n",
            "한국어 뜻을 입력하세요: 고양이\n",
            "영어 단어를 입력하세요: dog\n",
            "한국어 뜻을 입력하세요: 개\n",
            "영어 단어를 입력하세요: q\n"
          ],
          "name": "stdout"
        }
      ]
    },
    {
      "cell_type": "code",
      "metadata": {
        "colab": {
          "base_uri": "https://localhost:8080/"
        },
        "id": "VhYT9qfZ8QMP",
        "outputId": "28c0b004-8936-496d-8f93-37762020d468"
      },
      "source": [
        "with open('vocabulary.txt', 'r') as f:\n",
        "  for line in f:\n",
        "    line = line.strip().split(\": \")\n",
        "    eng = line[0]\n",
        "    kor = line[1]\n",
        "    Q = input(\"{}: \".format(kor))\n",
        "    if Q == eng:\n",
        "      print(\"정답입니다!\\n\")\n",
        "    else:\n",
        "      print(\"아쉽습니다! 정답은 {}입니다.\\n\".format(eng))"
      ],
      "execution_count": 17,
      "outputs": [
        {
          "output_type": "stream",
          "text": [
            "고양이: cat\n",
            "정답입니다!\n",
            "\n",
            "강아지: 야옹\n",
            "아쉽습니다! 정답은 dog입니다.\n",
            "\n"
          ],
          "name": "stdout"
        }
      ]
    },
    {
      "cell_type": "code",
      "metadata": {
        "colab": {
          "base_uri": "https://localhost:8080/"
        },
        "id": "1Z5c-Cv0DfmZ",
        "outputId": "6c8e6c26-9247-4b86-ac45-fb725fdcbf30"
      },
      "source": [
        "import random\n",
        "\n",
        "vocab = {}\n",
        "with open('vocabulary.txt', 'r') as f:\n",
        "    for line in f:\n",
        "        data = line.strip().split(\": \")\n",
        "        eng = data[0]\n",
        "        kor = data[1]\n",
        "        vocab[eng] = kor\n",
        "\n",
        "keys = list(vocab.keys())\n",
        "\n",
        "while True:\n",
        "    index = random.randint(0, len(keys) - 1)\n",
        "    eng = keys[index]\n",
        "    kor = vocab[eng]\n",
        "    Q = input(\"{}: \".format(kor))\n",
        "    if Q == 'q':\n",
        "        break\n",
        "    if Q == eng:\n",
        "        print(\"정답입니다!\\n\")\n",
        "    else:\n",
        "        print(\"아쉽습니다. 정답은 {}입니다.\\n\".format(eng))"
      ],
      "execution_count": 4,
      "outputs": [
        {
          "output_type": "stream",
          "text": [
            "개: dog\n",
            "정답입니다!\n",
            "\n",
            "고양이: dog\n",
            "아쉽습니다. 정답은 cat입니다.\n",
            "\n",
            "개: cat\n",
            "아쉽습니다. 정답은 dog입니다.\n",
            "\n",
            "개: dog\n",
            "정답입니다!\n",
            "\n",
            "개: dog\n",
            "정답입니다!\n",
            "\n",
            "고양이: cat\n",
            "정답입니다!\n",
            "\n",
            "고양이: q\n"
          ],
          "name": "stdout"
        }
      ]
    }
  ]
}