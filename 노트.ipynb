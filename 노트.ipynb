{
  "nbformat": 4,
  "nbformat_minor": 0,
  "metadata": {
    "colab": {
      "name": "노트",
      "provenance": [],
      "authorship_tag": "ABX9TyOSeQSMYmhL8PtKzsgZhR6e",
      "include_colab_link": true
    },
    "kernelspec": {
      "name": "python3",
      "display_name": "Python 3"
    }
  },
  "cells": [
    {
      "cell_type": "markdown",
      "metadata": {
        "id": "view-in-github",
        "colab_type": "text"
      },
      "source": [
        "<a href=\"https://colab.research.google.com/github/yujungha/python-study/blob/main/%EB%85%B8%ED%8A%B8.ipynb\" target=\"_parent\"><img src=\"https://colab.research.google.com/assets/colab-badge.svg\" alt=\"Open In Colab\"/></a>"
      ]
    },
    {
      "cell_type": "code",
      "metadata": {
        "id": "R5PwdIqGOhYk"
      },
      "source": [
        "# 자료형\r\n",
        "a = 0\r\n",
        "b = \"안녕하세요\"\r\n",
        "c = [1, 2, 3]\r\n",
        "person = {\r\n",
        "    \"cm\" : 1,\r\n",
        "    \"weight\" : 21,\r\n",
        "}\r\n",
        "e = True\r\n",
        "e = False\r\n",
        "f = 0.9348392185"
      ],
      "execution_count": null,
      "outputs": []
    },
    {
      "cell_type": "code",
      "metadata": {
        "colab": {
          "base_uri": "https://localhost:8080/"
        },
        "id": "JokRAj2lROy7",
        "outputId": "9500b0fa-99a0-4653-d035-ea29dd5d7eca"
      },
      "source": [
        "# 반복문\r\n",
        "for i in range(2, 10):\r\n",
        "  for j in range(1, 10):\r\n",
        "    print(i, \"x\", j, \"=\", i*j)"
      ],
      "execution_count": null,
      "outputs": [
        {
          "output_type": "stream",
          "text": [
            "2 x 1 = 2\n",
            "2 x 2 = 4\n",
            "2 x 3 = 6\n",
            "2 x 4 = 8\n",
            "2 x 5 = 10\n",
            "2 x 6 = 12\n",
            "2 x 7 = 14\n",
            "2 x 8 = 16\n",
            "2 x 9 = 18\n",
            "3 x 1 = 3\n",
            "3 x 2 = 6\n",
            "3 x 3 = 9\n",
            "3 x 4 = 12\n",
            "3 x 5 = 15\n",
            "3 x 6 = 18\n",
            "3 x 7 = 21\n",
            "3 x 8 = 24\n",
            "3 x 9 = 27\n",
            "4 x 1 = 4\n",
            "4 x 2 = 8\n",
            "4 x 3 = 12\n",
            "4 x 4 = 16\n",
            "4 x 5 = 20\n",
            "4 x 6 = 24\n",
            "4 x 7 = 28\n",
            "4 x 8 = 32\n",
            "4 x 9 = 36\n",
            "5 x 1 = 5\n",
            "5 x 2 = 10\n",
            "5 x 3 = 15\n",
            "5 x 4 = 20\n",
            "5 x 5 = 25\n",
            "5 x 6 = 30\n",
            "5 x 7 = 35\n",
            "5 x 8 = 40\n",
            "5 x 9 = 45\n",
            "6 x 1 = 6\n",
            "6 x 2 = 12\n",
            "6 x 3 = 18\n",
            "6 x 4 = 24\n",
            "6 x 5 = 30\n",
            "6 x 6 = 36\n",
            "6 x 7 = 42\n",
            "6 x 8 = 48\n",
            "6 x 9 = 54\n",
            "7 x 1 = 7\n",
            "7 x 2 = 14\n",
            "7 x 3 = 21\n",
            "7 x 4 = 28\n",
            "7 x 5 = 35\n",
            "7 x 6 = 42\n",
            "7 x 7 = 49\n",
            "7 x 8 = 56\n",
            "7 x 9 = 63\n",
            "8 x 1 = 8\n",
            "8 x 2 = 16\n",
            "8 x 3 = 24\n",
            "8 x 4 = 32\n",
            "8 x 5 = 40\n",
            "8 x 6 = 48\n",
            "8 x 7 = 56\n",
            "8 x 8 = 64\n",
            "8 x 9 = 72\n",
            "9 x 1 = 9\n",
            "9 x 2 = 18\n",
            "9 x 3 = 27\n",
            "9 x 4 = 36\n",
            "9 x 5 = 45\n",
            "9 x 6 = 54\n",
            "9 x 7 = 63\n",
            "9 x 8 = 72\n",
            "9 x 9 = 81\n"
          ],
          "name": "stdout"
        }
      ]
    },
    {
      "cell_type": "code",
      "metadata": {
        "colab": {
          "base_uri": "https://localhost:8080/"
        },
        "id": "9dwXsnnJR2sC",
        "outputId": "d44a6b01-1f4c-4976-b591-57d0692efc4d"
      },
      "source": [
        "# 조건문\r\n",
        "내돈 = int(input())\r\n",
        "딸기라떼 = 5800\r\n",
        "\r\n",
        "돈_빌려줄_수_있는_친구_여부 = True\r\n",
        "친구가_돈이_있는지 = True\r\n",
        "\r\n",
        "print(내돈)\r\n",
        "print(딸기라떼)\r\n",
        "\r\n",
        "if 내돈 >= 딸기라떼 :\r\n",
        "  print('여깄습니다')\r\n",
        "elif  돈_빌려줄_수_있는_친구_여부 and 친구가_돈이_있는지 :\r\n",
        "  print('돈 좀')\r\n",
        "else :\r\n",
        "  print(';;;')"
      ],
      "execution_count": null,
      "outputs": [
        {
          "output_type": "stream",
          "text": [
            "5800\n",
            "5800\n",
            "5800\n",
            "여깄습니다\n"
          ],
          "name": "stdout"
        }
      ]
    },
    {
      "cell_type": "code",
      "metadata": {
        "colab": {
          "base_uri": "https://localhost:8080/"
        },
        "id": "th760Aj3TXXJ",
        "outputId": "bace0eae-17dc-45c1-cf3b-fec20b31caf9"
      },
      "source": [
        "# 함수\r\n",
        "\r\n",
        "def 함수이름(인자) :\r\n",
        "  return 인자 + 1\r\n",
        "\r\n",
        "print(함수이름(10))"
      ],
      "execution_count": null,
      "outputs": [
        {
          "output_type": "stream",
          "text": [
            "11\n"
          ],
          "name": "stdout"
        }
      ]
    },
    {
      "cell_type": "code",
      "metadata": {
        "colab": {
          "base_uri": "https://localhost:8080/"
        },
        "id": "FEW4K2D-T7qJ",
        "outputId": "3c6b0e86-9776-4efe-9db8-46edfa9a559d"
      },
      "source": [
        "def f(x) :\r\n",
        "  return x + 1\r\n",
        "\r\n",
        "a = f(2)\r\n",
        "\r\n",
        "print(a)"
      ],
      "execution_count": null,
      "outputs": [
        {
          "output_type": "stream",
          "text": [
            "3\n"
          ],
          "name": "stdout"
        }
      ]
    },
    {
      "cell_type": "code",
      "metadata": {
        "id": "O5Dqo-fNUFa0"
      },
      "source": [
        "class Player() :\r\n",
        "  def __init__(self, x, y) :\r\n",
        "    self.x = x\r\n",
        "    self.y = y\r\n",
        "\r\n",
        "  def xMove(self) :\r\n",
        "    self.x = self.x + 1"
      ],
      "execution_count": null,
      "outputs": []
    },
    {
      "cell_type": "code",
      "metadata": {
        "colab": {
          "base_uri": "https://localhost:8080/"
        },
        "id": "li6EqagPWiUh",
        "outputId": "217a65c1-5c10-40c2-e0b3-c502eaba539a"
      },
      "source": [
        "p = Player(10, 20)\r\n",
        "print(p.x)\r\n",
        "p.xMove()\r\n",
        "print(p.x)"
      ],
      "execution_count": null,
      "outputs": [
        {
          "output_type": "stream",
          "text": [
            "10\n",
            "11\n"
          ],
          "name": "stdout"
        }
      ]
    },
    {
      "cell_type": "code",
      "metadata": {
        "colab": {
          "base_uri": "https://localhost:8080/"
        },
        "id": "BBp8BRl0WxTF",
        "outputId": "d6f8bd9b-a7ab-4854-f19a-ef82f67f36e2"
      },
      "source": [
        "class 붕어빵():\r\n",
        "  def __init__(self):\r\n",
        "    self.팥 = 0\r\n",
        "    self.크림 = 0\r\n",
        "    self.익음 = False\r\n",
        "  \r\n",
        "  def 상태(self):\r\n",
        "    print('팥 :', self.팥)\r\n",
        "    print('크림 :', self.크림)\r\n",
        "    print('익음 :', self.익음)\r\n",
        "\r\n",
        "  def 팥넣기(self, 팥양):\r\n",
        "    if 팥양 > 100:\r\n",
        "      print('팥이 너무 많다')\r\n",
        "    else:\r\n",
        "      self.팥 = self.팥 + 팥양\r\n",
        "      print('팥양이', self.팥, '이 되었습니다')\r\n",
        "\r\n",
        "  def 크림넣기(self, 크림양):\r\n",
        "    if 크림양 > 100:\r\n",
        "      print('크림이 너무 많다')\r\n",
        "    else:\r\n",
        "      self.크림 = self.크림 + 크림양\r\n",
        "      print('크림양이', self.크림, '이 되었습니다')\r\n",
        "\r\n",
        "  def 조리(self, 시간):\r\n",
        "    if 시간 > 300:\r\n",
        "      pirnt('붕어빵이 탔습니다')\r\n",
        "    if self.크림 + self.팥 > 500:\r\n",
        "      print('붕어빵이 조리도중 터졌습니다')\r\n",
        "    self.익음 = True\r\n",
        "    print('잘 익음')\r\n",
        "\r\n",
        "'''\r\n",
        "0은 팥\r\n",
        "1은 크림붕어빵을 요청하는 사람들입니다\r\n",
        "\r\n",
        "적절하게 만들어서 result 리스트 안에 넣어주세요\r\n",
        "\r\n",
        "result.append(만든붕어빵)\r\n",
        "\r\n",
        "'''\r\n",
        "order = [0,0,0,0,1,1,0,1,1,1]\r\n",
        "result = []\r\n",
        "\r\n",
        "for i in range(10):\r\n",
        "  boong = 붕어빵()\r\n",
        "  if order[i] == 0:\r\n",
        "    boong.팥넣기(100)\r\n",
        "  elif order[i] == 1:\r\n",
        "    boong.크림넣기(100)\r\n",
        "  boong.조리(200)\r\n",
        "  boong.상태()"
      ],
      "execution_count": null,
      "outputs": [
        {
          "output_type": "stream",
          "text": [
            "팥양이 100 이 되었습니다\n",
            "잘 익음\n",
            "팥 : 100\n",
            "크림 : 0\n",
            "익음 : True\n",
            "팥양이 100 이 되었습니다\n",
            "잘 익음\n",
            "팥 : 100\n",
            "크림 : 0\n",
            "익음 : True\n",
            "팥양이 100 이 되었습니다\n",
            "잘 익음\n",
            "팥 : 100\n",
            "크림 : 0\n",
            "익음 : True\n",
            "팥양이 100 이 되었습니다\n",
            "잘 익음\n",
            "팥 : 100\n",
            "크림 : 0\n",
            "익음 : True\n",
            "크림양이 100 이 되었습니다\n",
            "잘 익음\n",
            "팥 : 0\n",
            "크림 : 100\n",
            "익음 : True\n",
            "크림양이 100 이 되었습니다\n",
            "잘 익음\n",
            "팥 : 0\n",
            "크림 : 100\n",
            "익음 : True\n",
            "팥양이 100 이 되었습니다\n",
            "잘 익음\n",
            "팥 : 100\n",
            "크림 : 0\n",
            "익음 : True\n",
            "크림양이 100 이 되었습니다\n",
            "잘 익음\n",
            "팥 : 0\n",
            "크림 : 100\n",
            "익음 : True\n",
            "크림양이 100 이 되었습니다\n",
            "잘 익음\n",
            "팥 : 0\n",
            "크림 : 100\n",
            "익음 : True\n",
            "크림양이 100 이 되었습니다\n",
            "잘 익음\n",
            "팥 : 0\n",
            "크림 : 100\n",
            "익음 : True\n"
          ],
          "name": "stdout"
        }
      ]
    },
    {
      "cell_type": "code",
      "metadata": {
        "id": "k9yM9jOkTvsy",
        "colab": {
          "base_uri": "https://localhost:8080/"
        },
        "outputId": "7c975648-6330-4ff6-dced-1df7a582aae6"
      },
      "source": [
        "class 성적표():\r\n",
        "  def __init__(self):\r\n",
        "    self.물전 = 0\r\n",
        "    self.광전 = 0\r\n",
        "    self.신시 = 0\r\n",
        "\r\n",
        "  def 점수(self):\r\n",
        "    print('물전 :', self.물전)\r\n",
        "    print('광전 :', self.광전)\r\n",
        "    print('신시 :', self.신시)\r\n",
        "\r\n",
        "  def 물전시험(self, 물전시험점수):\r\n",
        "    self.물전 = self.물전 + 물전시험점수 * 0.7\r\n",
        "\r\n",
        "  def 물전출석(self, 물전출석점수):\r\n",
        "    self.물전 = self.물전 + 물전출석점수 * 0.1\r\n",
        "\r\n",
        "  def 물전과제(self, 물전과제점수):\r\n",
        "    self.물전 = self.물전 + 물전과제점수 * 0.2\r\n",
        "\r\n",
        "  def 물전학점(self):\r\n",
        "    if self.물전 >= 90:\r\n",
        "      print('A+')\r\n",
        "    elif self.물전 >= 80:\r\n",
        "      print('A0')\r\n",
        "    elif self.물전 >= 70:\r\n",
        "      print('B+')\r\n",
        "    elif self.물전 >= 60:\r\n",
        "      print('B0')\r\n",
        "    else:\r\n",
        "      print('C+')\r\n",
        "\r\n",
        "  def 광전시험(self, 광전시험점수):\r\n",
        "    self.광전 = self.광전 + 광전시험점수 * 0.7\r\n",
        "\r\n",
        "  def 광전출석(self, 광전출석점수):\r\n",
        "    self.광전 = self.광전 + 광전출석점수 * 0.1\r\n",
        "\r\n",
        "  def 광전과제(self, 광전과제점수):\r\n",
        "    self.광전 = self.광전 + 광전과제점수 * 0.2\r\n",
        "\r\n",
        "  def 광전학점(self):\r\n",
        "    if self.광전 >= 90:\r\n",
        "      print('A+')\r\n",
        "    elif self.광전 >= 80:\r\n",
        "      print('A0')\r\n",
        "    elif self.광전 >= 70:\r\n",
        "      print('B+')\r\n",
        "    elif self.광전 >= 60:\r\n",
        "      print('B0')\r\n",
        "    else:\r\n",
        "      print('C+')\r\n",
        "\r\n",
        "  def 신시시험(self, 신시시험점수):\r\n",
        "    self.신시 = self.신시 + 신시시험점수 * 0.7\r\n",
        "\r\n",
        "  def 신시출석(self, 신시출석점수):\r\n",
        "    self.신시 = self.신시 + 신시출석점수 * 0.1\r\n",
        "  \r\n",
        "  def 신시과제(self, 신시과제점수):\r\n",
        "    self.신시 = self.신시 + 신시과제점수 * 0.2\r\n",
        "\r\n",
        "  def 신시학점(self):\r\n",
        "    if self.신시 >= 90:\r\n",
        "      print('A+')\r\n",
        "    elif self.신시 >= 80:\r\n",
        "      print('A0')\r\n",
        "    elif self.신시 >= 70:\r\n",
        "      print('B+')\r\n",
        "    elif self.신시 >= 60:\r\n",
        "      print('B0')\r\n",
        "    else:\r\n",
        "      print('C+')\r\n",
        "\r\n",
        "내성적 = 성적표()\r\n",
        "내성적.물전시험(90)\r\n",
        "내성적.물전출석(60)\r\n",
        "내성적.물전과제(50)\r\n",
        "내성적.광전시험(60)\r\n",
        "내성적.광전출석(90)\r\n",
        "내성적.광전과제(80)\r\n",
        "내성적.신시시험(50)\r\n",
        "내성적.신시출석(30)\r\n",
        "내성적.신시과제(40)\r\n",
        "내성적.점수()\r\n",
        "내성적.물전학점()\r\n",
        "내성적.광전학점()\r\n",
        "내성적.신시학점()"
      ],
      "execution_count": null,
      "outputs": [
        {
          "output_type": "stream",
          "text": [
            "물전 : 79.0\n",
            "광전 : 67.0\n",
            "신시 : 46.0\n",
            "B+\n",
            "B0\n",
            "C+\n"
          ],
          "name": "stdout"
        }
      ]
    },
    {
      "cell_type": "code",
      "metadata": {
        "id": "KJMREIYGWsrx",
        "colab": {
          "base_uri": "https://localhost:8080/"
        },
        "outputId": "6290de2c-7f95-4f5c-cbb0-23d0872ae262"
      },
      "source": [
        "a, b = map(int, input().split())\r\n",
        "print(a + b)"
      ],
      "execution_count": null,
      "outputs": [
        {
          "output_type": "stream",
          "text": [
            "4 5\n",
            "9\n"
          ],
          "name": "stdout"
        }
      ]
    },
    {
      "cell_type": "code",
      "metadata": {
        "colab": {
          "base_uri": "https://localhost:8080/"
        },
        "id": "xi60_n01SHnd",
        "outputId": "8571c3ae-38f4-49ab-df58-516aa02b9a4b"
      },
      "source": [
        "print('Hello World!')"
      ],
      "execution_count": null,
      "outputs": [
        {
          "output_type": "stream",
          "text": [
            "Hello World!\n"
          ],
          "name": "stdout"
        }
      ]
    },
    {
      "cell_type": "code",
      "metadata": {
        "id": "xEORPdgcZHel"
      },
      "source": [
        "# 1\r\n",
        "a = 0\r\n",
        "def f():\r\n",
        "  a = a + 1\r\n",
        "  return\r\n",
        "\r\n",
        "f()"
      ],
      "execution_count": null,
      "outputs": []
    },
    {
      "cell_type": "code",
      "metadata": {
        "id": "1ZZpSlRFdaQM"
      },
      "source": [
        "# 2\r\n",
        "a = 0\r\n",
        "def f():\r\n",
        "  ruturn a + 1\r\n",
        "\r\n",
        "a = f()"
      ],
      "execution_count": null,
      "outputs": []
    },
    {
      "cell_type": "code",
      "metadata": {
        "id": "fnGTVMw7dmBR"
      },
      "source": [
        "# 3\r\n",
        "a = 0\r\n",
        "def f(x):\r\n",
        "  a = a + x\r\n",
        "  return\r\n",
        "\r\n",
        "f(1)"
      ],
      "execution_count": null,
      "outputs": []
    },
    {
      "cell_type": "code",
      "metadata": {
        "id": "5feXES2adyKu"
      },
      "source": [
        "# 4\r\n",
        "a = 0\r\n",
        "def f(x):\r\n",
        "  return a + x\r\n",
        "\r\n",
        "a = f(1)"
      ],
      "execution_count": null,
      "outputs": []
    },
    {
      "cell_type": "code",
      "metadata": {
        "colab": {
          "base_uri": "https://localhost:8080/"
        },
        "id": "89vwhgqbeCSm",
        "outputId": "501bb80b-bb36-4fcf-9e23-ebf079509eea"
      },
      "source": [
        "text = input()"
      ],
      "execution_count": null,
      "outputs": [
        {
          "output_type": "stream",
          "text": [
            "7 3\n"
          ],
          "name": "stdout"
        }
      ]
    },
    {
      "cell_type": "code",
      "metadata": {
        "colab": {
          "base_uri": "https://localhost:8080/"
        },
        "id": "1s1hVlOMfb4r",
        "outputId": "a8eb9350-b055-4690-a020-d7623d800aaa"
      },
      "source": [
        "print(text)"
      ],
      "execution_count": null,
      "outputs": [
        {
          "output_type": "stream",
          "text": [
            "7 3\n"
          ],
          "name": "stdout"
        }
      ]
    },
    {
      "cell_type": "code",
      "metadata": {
        "colab": {
          "base_uri": "https://localhost:8080/"
        },
        "id": "rOwJjbDvffdv",
        "outputId": "71747ecd-63a1-48d4-86f6-4629a71cba3e"
      },
      "source": [
        "text = input()\r\n",
        "t = text.split(' ')\r\n",
        "a = int(t[0])\r\n",
        "b = int(t[1])\r\n",
        "print(a + b)\r\n",
        "print(a - b)\r\n",
        "print(a * b)\r\n",
        "print(a // b)\r\n",
        "print(a % b)"
      ],
      "execution_count": null,
      "outputs": [
        {
          "output_type": "stream",
          "text": [
            "7 3\n",
            "10\n",
            "4\n",
            "21\n",
            "2\n",
            "1\n"
          ],
          "name": "stdout"
        }
      ]
    },
    {
      "cell_type": "code",
      "metadata": {
        "colab": {
          "base_uri": "https://localhost:8080/"
        },
        "id": "ZSCBZXjZfu7k",
        "outputId": "b2cd1c76-355c-4be0-83b1-c838bcc72af4"
      },
      "source": [
        "text = input()\r\n",
        "t = text.split(' ')\r\n",
        "a = int(t[0])\r\n",
        "b = int(t[1])\r\n",
        "\r\n",
        "if a > b:\r\n",
        "  print('>')\r\n",
        "elif a < b:\r\n",
        "  print('<')\r\n",
        "else:\r\n",
        "  print('==')"
      ],
      "execution_count": null,
      "outputs": [
        {
          "output_type": "stream",
          "text": [
            "1 2\n",
            "<\n"
          ],
          "name": "stdout"
        }
      ]
    },
    {
      "cell_type": "code",
      "metadata": {
        "colab": {
          "base_uri": "https://localhost:8080/"
        },
        "id": "eOzjAmnmiijz",
        "outputId": "6e864ffd-f799-4dd7-af8e-0eae89672d61"
      },
      "source": [
        "a = int(input())\r\n",
        "b = int(input())\r\n",
        "\r\n",
        "if a > 0 and b > 0:\r\n",
        "  print('1')\r\n",
        "elif a < 0 and b > 0:\r\n",
        "  print('2')\r\n",
        "elif a < 0 and b < 0:\r\n",
        "  print('3')\r\n",
        "elif a > 0 and b < 0:\r\n",
        "  print('4')\r\n"
      ],
      "execution_count": null,
      "outputs": [
        {
          "output_type": "stream",
          "text": [
            "12\n",
            "5\n",
            "1\n"
          ],
          "name": "stdout"
        }
      ]
    },
    {
      "cell_type": "code",
      "metadata": {
        "colab": {
          "base_uri": "https://localhost:8080/"
        },
        "id": "tt3wNe2nkB0y",
        "outputId": "c59d3674-11d2-45c0-887a-de8fd54e2ef4"
      },
      "source": [
        "a = int(input())\r\n",
        "\r\n",
        "if a % 4 == 0:\r\n",
        "  if a % 100 != 0 or a % 400 == 0:\r\n",
        "    print('1')\r\n",
        "  else:\r\n",
        "    print('0')\r\n",
        "else:\r\n",
        "  print('0')"
      ],
      "execution_count": null,
      "outputs": [
        {
          "output_type": "stream",
          "text": [
            "1999\n",
            "0\n"
          ],
          "name": "stdout"
        }
      ]
    },
    {
      "cell_type": "code",
      "metadata": {
        "colab": {
          "base_uri": "https://localhost:8080/"
        },
        "id": "covgeoMQniVT",
        "outputId": "f2c9092d-0767-4c3b-a667-142af3eb6cde"
      },
      "source": [
        "n = int(input())\r\n",
        "\r\n",
        "for i in range(1, 10):\r\n",
        "  print(n, '*', i, '=', n * i)"
      ],
      "execution_count": null,
      "outputs": [
        {
          "output_type": "stream",
          "text": [
            "2\n",
            "2 * 1 = 2\n",
            "2 * 2 = 4\n",
            "2 * 3 = 6\n",
            "2 * 4 = 8\n",
            "2 * 5 = 10\n",
            "2 * 6 = 12\n",
            "2 * 7 = 14\n",
            "2 * 8 = 16\n",
            "2 * 9 = 18\n"
          ],
          "name": "stdout"
        }
      ]
    },
    {
      "cell_type": "code",
      "metadata": {
        "colab": {
          "base_uri": "https://localhost:8080/"
        },
        "id": "HJ0pu416pBCK",
        "outputId": "2b2928f5-608c-4762-c75c-c3707911ea8a"
      },
      "source": [
        "n = int(input())\r\n",
        "\r\n",
        "a = 0\r\n",
        "for i in range(1, n + 1):\r\n",
        "  a += i\r\n",
        "print(a)"
      ],
      "execution_count": null,
      "outputs": [
        {
          "output_type": "stream",
          "text": [
            "3\n",
            "6\n"
          ],
          "name": "stdout"
        }
      ]
    },
    {
      "cell_type": "code",
      "metadata": {
        "colab": {
          "base_uri": "https://localhost:8080/"
        },
        "id": "NPEHC6CPrOCR",
        "outputId": "ff32025e-0067-49a5-a6de-69305bbcff67"
      },
      "source": [
        "n = int(input())\r\n",
        "\r\n",
        "a = 1\r\n",
        "for i in range(1, n + 1):\r\n",
        "  a *= i\r\n",
        "print(a)"
      ],
      "execution_count": null,
      "outputs": [
        {
          "output_type": "stream",
          "text": [
            "4\n",
            "24\n"
          ],
          "name": "stdout"
        }
      ]
    },
    {
      "cell_type": "code",
      "metadata": {
        "colab": {
          "base_uri": "https://localhost:8080/"
        },
        "id": "jipY2CrHjQDA",
        "outputId": "ea8382eb-b034-4049-afde-6136236c66c3"
      },
      "source": [
        "n = int(input())\r\n",
        "text = input()\r\n",
        "t = text.split(' ')\r\n",
        "t = list(map(int, t))\r\n",
        "\r\n",
        "print(min(t), max(t))"
      ],
      "execution_count": null,
      "outputs": [
        {
          "output_type": "stream",
          "text": [
            "20 10 35 30 7\n",
            "7 35\n"
          ],
          "name": "stdout"
        }
      ]
    },
    {
      "cell_type": "code",
      "metadata": {
        "colab": {
          "base_uri": "https://localhost:8080/"
        },
        "id": "t7zv3aXwcfb4",
        "outputId": "1d90a124-56fc-429f-8f36-32fb23e2b1af"
      },
      "source": [
        "text = input()\r\n",
        "t = text.split(' ')\r\n",
        "t = list(map(int, t))"
      ],
      "execution_count": null,
      "outputs": [
        {
          "output_type": "stream",
          "text": [
            "1 2 3 4 5\n"
          ],
          "name": "stdout"
        }
      ]
    },
    {
      "cell_type": "code",
      "metadata": {
        "id": "S59e3MtDp2Tz"
      },
      "source": [
        ""
      ],
      "execution_count": null,
      "outputs": []
    },
    {
      "cell_type": "code",
      "metadata": {
        "colab": {
          "base_uri": "https://localhost:8080/"
        },
        "id": "OyKTHhHWnuXy",
        "outputId": "39b347af-33ca-44a4-9b3d-089719679245"
      },
      "source": [
        "l = [10, 15, 30, 21, 11]\r\n",
        "\r\n",
        "a = 0\r\n",
        "b = 0\r\n",
        "for i in range(5):\r\n",
        "  print(l[i], i + 1)\r\n",
        "  if a < l[i]:\r\n",
        "    a = l[i]\r\n",
        "    b = i + 1\r\n",
        "a, b"
      ],
      "execution_count": null,
      "outputs": [
        {
          "output_type": "stream",
          "text": [
            "10 1\n",
            "15 2\n",
            "30 3\n",
            "21 4\n",
            "11 5\n"
          ],
          "name": "stdout"
        },
        {
          "output_type": "execute_result",
          "data": {
            "text/plain": [
              "(30, 3)"
            ]
          },
          "metadata": {
            "tags": []
          },
          "execution_count": 2
        }
      ]
    },
    {
      "cell_type": "code",
      "metadata": {
        "colab": {
          "base_uri": "https://localhost:8080/"
        },
        "id": "M-JBq_nKr_5c",
        "outputId": "e8a4ec6f-a530-45c3-d89f-33c2f196ef78"
      },
      "source": [
        "l = []\r\n",
        "for _ in range(9):\r\n",
        "  l.append(int(input()))\r\n",
        "\r\n",
        "a = 0\r\n",
        "b = 0\r\n",
        "for i in range(9):\r\n",
        "  if a < l[i]:\r\n",
        "    a = l[i]\r\n",
        "    b = i + 1\r\n",
        "print(a)\r\n",
        "print(b)"
      ],
      "execution_count": null,
      "outputs": [
        {
          "output_type": "stream",
          "text": [
            "3\n",
            "29\n",
            "38\n",
            "12\n",
            "[3, 29, 38, 12]\n",
            "38\n",
            "2\n"
          ],
          "name": "stdout"
        }
      ]
    },
    {
      "cell_type": "code",
      "metadata": {
        "colab": {
          "base_uri": "https://localhost:8080/"
        },
        "id": "BuYtEr5zuotC",
        "outputId": "7d5e76a4-bf3b-430e-edb0-8afe5d14e9d5"
      },
      "source": [
        "l = []\r\n",
        "for _ in range(4):\r\n",
        "  l.append(int(input()))\r\n",
        "print(l)\r\n",
        "print(max(l))\r\n",
        "print(l.index(max(l)))"
      ],
      "execution_count": null,
      "outputs": [
        {
          "output_type": "stream",
          "text": [
            "50\n",
            "80\n",
            "90\n",
            "60\n",
            "[50, 80, 90, 60]\n",
            "90\n",
            "2\n"
          ],
          "name": "stdout"
        }
      ]
    },
    {
      "cell_type": "code",
      "metadata": {
        "colab": {
          "base_uri": "https://localhost:8080/"
        },
        "id": "Vs2YZp1Frvl3",
        "outputId": "e11abaa9-c920-42b7-87e8-b5d616315252"
      },
      "source": [
        "l = [5, 50, 50, 70, 80, 100]\r\n",
        "\r\n",
        "a = 0\r\n",
        "for i in range(1, len(l)):\r\n",
        "  a += l[i]\r\n",
        "\r\n",
        "b = a / l[0]\r\n",
        "c = 0\r\n",
        "for i in range(1, len(l)):\r\n",
        "  if b < l[i]:\r\n",
        "    c += 1\r\n",
        "c / l[0] * 100"
      ],
      "execution_count": null,
      "outputs": [
        {
          "output_type": "execute_result",
          "data": {
            "text/plain": [
              "40.0"
            ]
          },
          "metadata": {
            "tags": []
          },
          "execution_count": 22
        }
      ]
    },
    {
      "cell_type": "code",
      "metadata": {
        "colab": {
          "base_uri": "https://localhost:8080/"
        },
        "id": "PSr3mVieDxi5",
        "outputId": "6a47ee1d-9511-450a-80e0-160fbe9a0147"
      },
      "source": [
        "n = int(input())\r\n",
        "res = []\r\n",
        "for i in range(n):\r\n",
        "  t = input()\r\n",
        "  t = t.split(' ')\r\n",
        "  l = list(map(int, t))\r\n",
        "\r\n",
        "  a = 0\r\n",
        "  for i in range(1, len(l)):\r\n",
        "    a += l[i]\r\n",
        "\r\n",
        "  b = a / l[0]\r\n",
        "  c = 0\r\n",
        "  for i in range(1, len(l)):\r\n",
        "    if b < l[i]:\r\n",
        "      c += 1  \r\n",
        "  res.append(c / l[0] * 100)\r\n",
        "\r\n",
        "for i in range(len(res)):\r\n",
        "  print('%.3f%%'%(res[i]))"
      ],
      "execution_count": null,
      "outputs": [
        {
          "output_type": "stream",
          "text": [
            "5\n",
            "5 50 50 70 80 100\n",
            "7 100 95 90 80 70 60 50\n",
            "3 70 90 80\n",
            "3 70 90 81\n",
            "9 100 99 98 97 96 95 94 93 91\n",
            "40.000\n",
            "57.143\n",
            "33.333\n",
            "66.667\n",
            "55.556\n"
          ],
          "name": "stdout"
        }
      ]
    },
    {
      "cell_type": "code",
      "metadata": {
        "id": "tAhrWxLZgw1R"
      },
      "source": [
        "import numpy as np\r\n",
        "np.sum([[1, 2],\r\n",
        "           [3, 4]], axis=0)\r\n",
        "\r\n",
        "#[1, 2] + [3, 4] = [4, 6]\r\n",
        "\r\n",
        "np.sum([[1, 2],\r\n",
        "          [3, 4]], axis=1)\r\n",
        "# 1 + 2\r\n",
        "# 3 + 4"
      ],
      "execution_count": null,
      "outputs": []
    },
    {
      "cell_type": "code",
      "metadata": {
        "colab": {
          "base_uri": "https://localhost:8080/",
          "height": 265
        },
        "id": "hhytGITAj8DS",
        "outputId": "357ac032-fd65-4cf4-e34d-25679c9d1d63"
      },
      "source": [
        "import matplotlib.pyplot as plt\r\n",
        "import numpy as np\r\n",
        "\r\n",
        "x = np.array([1,2,4,1,3])\r\n",
        "y = np.array([2,5,2,6,3])\r\n",
        "plt.plot(x,y)\r\n",
        "plt.show()"
      ],
      "execution_count": null,
      "outputs": [
        {
          "output_type": "display_data",
          "data": {
            "image/png": "[encoded data removed]",
            "text/plain": [
              "<Figure size 432x288 with 1 Axes>"
            ]
          },
          "metadata": {
            "tags": [],
            "needs_background": "light"
          }
        }
      ]
    },
    {
      "cell_type": "code",
      "metadata": {
        "colab": {
          "base_uri": "https://localhost:8080/"
        },
        "id": "nZ8nbld7wLqa",
        "outputId": "7d642f31-6915-46a6-9fd0-26e85fecf46b"
      },
      "source": [
        "10**3"
      ],
      "execution_count": null,
      "outputs": [
        {
          "output_type": "execute_result",
          "data": {
            "text/plain": [
              "1000"
            ]
          },
          "metadata": {
            "tags": []
          },
          "execution_count": 14
        }
      ]
    },
    {
      "cell_type": "code",
      "metadata": {
        "colab": {
          "base_uri": "https://localhost:8080/"
        },
        "id": "DJJWrM6Mq3uo",
        "outputId": "5b51bf40-ab44-4aac-c220-a35156b02ca8"
      },
      "source": [
        "a = list(map(int, '72036854775807'))\r\n",
        "b = list(map(int, '72036854775808'))\r\n",
        "e = 0\r\n",
        "for i in range(len(a)):\r\n",
        "  c = a[-(i+1)] + b[-(i+1)]\r\n",
        "  d = 10**i\r\n",
        "  print(c * d)\r\n",
        "  e += c * d\r\n",
        "print(e)"
      ],
      "execution_count": null,
      "outputs": [
        {
          "output_type": "stream",
          "text": [
            "15\n",
            "0\n",
            "1600\n",
            "10000\n",
            "140000\n",
            "1400000\n",
            "8000000\n",
            "100000000\n",
            "1600000000\n",
            "12000000000\n",
            "60000000000\n",
            "0\n",
            "4000000000000\n",
            "140000000000000\n",
            "144073709551615\n"
          ],
          "name": "stdout"
        }
      ]
    },
    {
      "cell_type": "code",
      "metadata": {
        "id": "pCmpDi6HyEKp",
        "colab": {
          "base_uri": "https://localhost:8080/"
        },
        "outputId": "a1641442-104c-4680-c0ce-f3b809ec4ab2"
      },
      "source": [
        "n = 1\r\n",
        "l = [0, 1, 2, 3, 4]\r\n",
        "\r\n",
        "print(n in l)"
      ],
      "execution_count": 1,
      "outputs": [
        {
          "output_type": "stream",
          "text": [
            "True\n"
          ],
          "name": "stdout"
        }
      ]
    },
    {
      "cell_type": "code",
      "metadata": {
        "colab": {
          "base_uri": "https://localhost:8080/"
        },
        "id": "QFxHc93rv4pj",
        "outputId": "11e29d47-40eb-41ea-b394-9bc9427d3eb3"
      },
      "source": [
        "while True:\r\n",
        "  text = input()\r\n",
        "  t = text.split(' ')\r\n",
        "  t = sorted(list(map(int, t)))\r\n",
        "  if t == [0, 0, 0]:\r\n",
        "    break\r\n",
        "  if t[0]**2 + t[1]**2 == t[2]**2:\r\n",
        "    print('right')\r\n",
        "  else:\r\n",
        "    print('wrong')"
      ],
      "execution_count": 4,
      "outputs": [
        {
          "output_type": "stream",
          "text": [
            "6 8 10\n",
            "right\n",
            "25 52 60\n",
            "wrong\n",
            "13 12 5\n",
            "right\n",
            "0 0 0\n"
          ],
          "name": "stdout"
        }
      ]
    },
    {
      "cell_type": "code",
      "metadata": {
        "colab": {
          "base_uri": "https://localhost:8080/"
        },
        "id": "e9NViAD00aSf",
        "outputId": "c0ea6e84-cd41-4282-fa05-1766fc05c466"
      },
      "source": [
        "n = int(input())\r\n",
        "text = input()\r\n",
        "t = text.split(' ')\r\n",
        "t = list(map(int, t))\r\n",
        "a = 0\r\n",
        "for i in t:\r\n",
        "  # i = 5\r\n",
        "  b = 0\r\n",
        "  for j in range(1, i + 1):\r\n",
        "    if i % j == 0:\r\n",
        "      b += 1\r\n",
        "  if b == 2:\r\n",
        "    a += 1\r\n",
        "print(a)"
      ],
      "execution_count": 8,
      "outputs": [
        {
          "output_type": "stream",
          "text": [
            "4\n",
            "1 3 5 7\n",
            "3\n"
          ],
          "name": "stdout"
        }
      ]
    },
    {
      "cell_type": "code",
      "metadata": {
        "colab": {
          "base_uri": "https://localhost:8080/"
        },
        "id": "wIpDo5md97dO",
        "outputId": "d3dd6ed2-66ed-4f2c-8abb-e2a62797b954"
      },
      "source": [
        "n = int(input())\r\n",
        "c = 2\r\n",
        "while True:\r\n",
        "  if n % c == 0:\r\n",
        "    print(c)\r\n",
        "    n = n / c\r\n",
        "  else:\r\n",
        "    c += 1\r\n",
        "  if n == 1:\r\n",
        "    break"
      ],
      "execution_count": 10,
      "outputs": [
        {
          "output_type": "stream",
          "text": [
            "72\n",
            "2\n",
            "2\n",
            "2\n",
            "3\n",
            "3\n"
          ],
          "name": "stdout"
        }
      ]
    },
    {
      "cell_type": "code",
      "metadata": {
        "colab": {
          "base_uri": "https://localhost:8080/"
        },
        "id": "-aoT85RggFUX",
        "outputId": "5949799a-d339-476b-ecf5-995418568edc"
      },
      "source": [
        "n = int(input())\r\n",
        "for i in range(1, 10):\r\n",
        "  print(n, '*', i, '=', n*i)"
      ],
      "execution_count": 2,
      "outputs": [
        {
          "output_type": "stream",
          "text": [
            "2\n",
            "2 * 1 = 2\n",
            "2 * 2 = 4\n",
            "2 * 3 = 6\n",
            "2 * 4 = 8\n",
            "2 * 5 = 10\n",
            "2 * 6 = 12\n",
            "2 * 7 = 14\n",
            "2 * 8 = 16\n",
            "2 * 9 = 18\n"
          ],
          "name": "stdout"
        }
      ]
    },
    {
      "cell_type": "code",
      "metadata": {
        "colab": {
          "base_uri": "https://localhost:8080/"
        },
        "id": "eESmpMVdhLJQ",
        "outputId": "270405e0-2c1c-4b98-8a71-0dd60b78f2bb"
      },
      "source": [
        "for i in range(2, 10):\r\n",
        "  print(i,'단 시작입니다')\r\n",
        "  for j in range(1, 10):\r\n",
        "    print(i,'*',j,'=',i*j)"
      ],
      "execution_count": 5,
      "outputs": [
        {
          "output_type": "stream",
          "text": [
            "2 단 시작입니다\n",
            "2 * 1 = 2\n",
            "2 * 2 = 4\n",
            "2 * 3 = 6\n",
            "2 * 4 = 8\n",
            "2 * 5 = 10\n",
            "2 * 6 = 12\n",
            "2 * 7 = 14\n",
            "2 * 8 = 16\n",
            "2 * 9 = 18\n",
            "3 단 시작입니다\n",
            "3 * 1 = 3\n",
            "3 * 2 = 6\n",
            "3 * 3 = 9\n",
            "3 * 4 = 12\n",
            "3 * 5 = 15\n",
            "3 * 6 = 18\n",
            "3 * 7 = 21\n",
            "3 * 8 = 24\n",
            "3 * 9 = 27\n",
            "4 단 시작입니다\n",
            "4 * 1 = 4\n",
            "4 * 2 = 8\n",
            "4 * 3 = 12\n",
            "4 * 4 = 16\n",
            "4 * 5 = 20\n",
            "4 * 6 = 24\n",
            "4 * 7 = 28\n",
            "4 * 8 = 32\n",
            "4 * 9 = 36\n",
            "5 단 시작입니다\n",
            "5 * 1 = 5\n",
            "5 * 2 = 10\n",
            "5 * 3 = 15\n",
            "5 * 4 = 20\n",
            "5 * 5 = 25\n",
            "5 * 6 = 30\n",
            "5 * 7 = 35\n",
            "5 * 8 = 40\n",
            "5 * 9 = 45\n",
            "6 단 시작입니다\n",
            "6 * 1 = 6\n",
            "6 * 2 = 12\n",
            "6 * 3 = 18\n",
            "6 * 4 = 24\n",
            "6 * 5 = 30\n",
            "6 * 6 = 36\n",
            "6 * 7 = 42\n",
            "6 * 8 = 48\n",
            "6 * 9 = 54\n",
            "7 단 시작입니다\n",
            "7 * 1 = 7\n",
            "7 * 2 = 14\n",
            "7 * 3 = 21\n",
            "7 * 4 = 28\n",
            "7 * 5 = 35\n",
            "7 * 6 = 42\n",
            "7 * 7 = 49\n",
            "7 * 8 = 56\n",
            "7 * 9 = 63\n",
            "8 단 시작입니다\n",
            "8 * 1 = 8\n",
            "8 * 2 = 16\n",
            "8 * 3 = 24\n",
            "8 * 4 = 32\n",
            "8 * 5 = 40\n",
            "8 * 6 = 48\n",
            "8 * 7 = 56\n",
            "8 * 8 = 64\n",
            "8 * 9 = 72\n",
            "9 단 시작입니다\n",
            "9 * 1 = 9\n",
            "9 * 2 = 18\n",
            "9 * 3 = 27\n",
            "9 * 4 = 36\n",
            "9 * 5 = 45\n",
            "9 * 6 = 54\n",
            "9 * 7 = 63\n",
            "9 * 8 = 72\n",
            "9 * 9 = 81\n"
          ],
          "name": "stdout"
        }
      ]
    },
    {
      "cell_type": "code",
      "metadata": {
        "colab": {
          "base_uri": "https://localhost:8080/"
        },
        "id": "tyGR0bhLjLnP",
        "outputId": "ee1df998-7225-48f6-e591-e6558dfeb53d"
      },
      "source": [
        "n = 5\r\n",
        "for i in range(n):\r\n",
        "  print('*'*(i+1))"
      ],
      "execution_count": 6,
      "outputs": [
        {
          "output_type": "stream",
          "text": [
            "*\n",
            "**\n",
            "***\n",
            "****\n",
            "*****\n"
          ],
          "name": "stdout"
        }
      ]
    },
    {
      "cell_type": "code",
      "metadata": {
        "colab": {
          "base_uri": "https://localhost:8080/"
        },
        "id": "ZbqiFpNsh5OE",
        "outputId": "3de0f226-3dda-436d-cbd9-15203157f11d"
      },
      "source": [
        "n = 5\r\n",
        "for i in range(1, n + 1):\r\n",
        "  for j in range(i):\r\n",
        "    print('*', end = '')\r\n",
        "  print()"
      ],
      "execution_count": 14,
      "outputs": [
        {
          "output_type": "stream",
          "text": [
            "*\n",
            "**\n",
            "***\n",
            "****\n",
            "*****\n"
          ],
          "name": "stdout"
        }
      ]
    },
    {
      "cell_type": "code",
      "metadata": {
        "colab": {
          "base_uri": "https://localhost:8080/"
        },
        "id": "QRRCAgD2lBH5",
        "outputId": "19a44c4f-89d7-4e47-d30b-1e8796f8865e"
      },
      "source": [
        "for i in range(5):\r\n",
        "  print('*', end='')"
      ],
      "execution_count": 9,
      "outputs": [
        {
          "output_type": "stream",
          "text": [
            "*****"
          ],
          "name": "stdout"
        }
      ]
    },
    {
      "cell_type": "code",
      "metadata": {
        "colab": {
          "base_uri": "https://localhost:8080/"
        },
        "id": "UVxoieVLlZV3",
        "outputId": "f2b9ed2c-a04e-4687-9fae-a817f64ef26c"
      },
      "source": [
        "n = int(input())\r\n",
        "for i in range(n):\r\n",
        "  print(' '*(n-1-i)+'*'*(i+1))"
      ],
      "execution_count": 24,
      "outputs": [
        {
          "output_type": "stream",
          "text": [
            "4\n",
            "   *\n",
            "  **\n",
            " ***\n",
            "****\n"
          ],
          "name": "stdout"
        }
      ]
    },
    {
      "cell_type": "code",
      "metadata": {
        "colab": {
          "base_uri": "https://localhost:8080/"
        },
        "id": "h9deiPR_n70j",
        "outputId": "45af82fc-9042-4c66-bde5-e6aac4ca9ee2"
      },
      "source": [
        "n = int(input())\r\n",
        "for i in range(n):\r\n",
        "  # 띄어쓰기\r\n",
        "  for j in range(n-1-i):\r\n",
        "    print(' ', end='')\r\n",
        "  # 별찍기\r\n",
        "  for j in range(i+1):\r\n",
        "    print('*', end='')\r\n",
        "  print()"
      ],
      "execution_count": 25,
      "outputs": [
        {
          "output_type": "stream",
          "text": [
            "5\n",
            "    *\n",
            "   **\n",
            "  ***\n",
            " ****\n",
            "*****\n"
          ],
          "name": "stdout"
        }
      ]
    },
    {
      "cell_type": "code",
      "metadata": {
        "colab": {
          "base_uri": "https://localhost:8080/"
        },
        "id": "XilLdrBZq2Wg",
        "outputId": "c42e6e10-174d-49cf-96b5-3db3ba4e36ec"
      },
      "source": [
        "n = int(input())\r\n",
        "for i in range(n):\r\n",
        "  for j in range(n-1-i):\r\n",
        "    print(' ', end = '')\r\n",
        "  for j in range(i*2+1):\r\n",
        "    print('*', end = '')\r\n",
        "  print()"
      ],
      "execution_count": 27,
      "outputs": [
        {
          "output_type": "stream",
          "text": [
            "5\n",
            "    *\n",
            "   ***\n",
            "  *****\n",
            " *******\n",
            "*********\n"
          ],
          "name": "stdout"
        }
      ]
    },
    {
      "cell_type": "code",
      "metadata": {
        "colab": {
          "base_uri": "https://localhost:8080/"
        },
        "id": "1V7dOcj6swut",
        "outputId": "222023d8-81bf-4e1e-d015-e37824493fca"
      },
      "source": [
        "n = int(input())\r\n",
        "for i in range(n):\r\n",
        "  for j in range(i):\r\n",
        "    print(' ', end = '')\r\n",
        "  for j in range((n-1-i)*2+1):\r\n",
        "    print('*', end = '')\r\n",
        "  print()"
      ],
      "execution_count": 36,
      "outputs": [
        {
          "output_type": "stream",
          "text": [
            "4\n",
            "*******\n",
            " *****\n",
            "  ***\n",
            "   *\n"
          ],
          "name": "stdout"
        }
      ]
    },
    {
      "cell_type": "code",
      "metadata": {
        "colab": {
          "base_uri": "https://localhost:8080/"
        },
        "id": "uzWMT1woyP46",
        "outputId": "c4b71846-ebdf-4a39-eaf7-f1ff22d79f7d"
      },
      "source": [
        "n = int(input())\r\n",
        "for i in range(n):\r\n",
        "  for j in range(i):\r\n",
        "    print(' ', end='')\r\n",
        "  for j in range(n-i):\r\n",
        "    print('*', end='')\r\n",
        "  print()"
      ],
      "execution_count": 39,
      "outputs": [
        {
          "output_type": "stream",
          "text": [
            "5\n",
            "*****\n",
            " ****\n",
            "  ***\n",
            "   **\n",
            "    *\n"
          ],
          "name": "stdout"
        }
      ]
    },
    {
      "cell_type": "code",
      "metadata": {
        "id": "K6tHrBbE18-Y"
      },
      "source": [
        ""
      ],
      "execution_count": null,
      "outputs": []
    }
  ]
}