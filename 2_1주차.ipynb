{
  "nbformat": 4,
  "nbformat_minor": 0,
  "metadata": {
    "colab": {
      "name": "2-1주차.ipynb",
      "provenance": [],
      "authorship_tag": "ABX9TyPNYpqqxajhnx1ORwDDcq9j",
      "include_colab_link": true
    },
    "kernelspec": {
      "name": "python3",
      "display_name": "Python 3"
    }
  },
  "cells": [
    {
      "cell_type": "markdown",
      "metadata": {
        "id": "view-in-github",
        "colab_type": "text"
      },
      "source": [
        "<a href=\"https://colab.research.google.com/github/yujungha/python-study/blob/main/2_1%EC%A3%BC%EC%B0%A8.ipynb\" target=\"_parent\"><img src=\"https://colab.research.google.com/assets/colab-badge.svg\" alt=\"Open In Colab\"/></a>"
      ]
    },
    {
      "cell_type": "code",
      "metadata": {
        "colab": {
          "base_uri": "https://localhost:8080/"
        },
        "id": "exwcTXLt3D8M",
        "outputId": "0e7a8577-c2eb-4b39-8268-92733e024a8e"
      },
      "source": [
        "print('Hello World!')"
      ],
      "execution_count": null,
      "outputs": [
        {
          "output_type": "stream",
          "text": [
            "Hello World!\n"
          ],
          "name": "stdout"
        }
      ]
    },
    {
      "cell_type": "code",
      "metadata": {
        "id": "JZ4fHsHc3hDL"
      },
      "source": [
        "# 1\r\n",
        "a = 0\r\n",
        "def f():\r\n",
        "  a = a + 1\r\n",
        "  return\r\n",
        "\r\n",
        "f()"
      ],
      "execution_count": null,
      "outputs": []
    },
    {
      "cell_type": "code",
      "metadata": {
        "id": "DCackvoF3hBN"
      },
      "source": [
        "# 2\r\n",
        "a = 0\r\n",
        "def f():\r\n",
        "  ruturn a + 1\r\n",
        "\r\n",
        "a = f()"
      ],
      "execution_count": null,
      "outputs": []
    },
    {
      "cell_type": "code",
      "metadata": {
        "id": "1JZENLnH3rnk"
      },
      "source": [
        "# 3\r\n",
        "a = 0\r\n",
        "def f(x):\r\n",
        "  a = a + x\r\n",
        "  return\r\n",
        "\r\n",
        "f(1)"
      ],
      "execution_count": null,
      "outputs": []
    },
    {
      "cell_type": "code",
      "metadata": {
        "id": "8O9IrGR531az"
      },
      "source": [
        "# 4\r\n",
        "a = 0\r\n",
        "def f(x):\r\n",
        "  return a + x\r\n",
        "\r\n",
        "a = f(1)"
      ],
      "execution_count": null,
      "outputs": []
    },
    {
      "cell_type": "code",
      "metadata": {
        "colab": {
          "base_uri": "https://localhost:8080/"
        },
        "id": "JNjV3C2p33iE",
        "outputId": "72007670-6fc2-4a3f-91ab-ef38cf55f84d"
      },
      "source": [
        "text = input()"
      ],
      "execution_count": null,
      "outputs": [
        {
          "output_type": "stream",
          "text": [
            "7 3\n"
          ],
          "name": "stdout"
        }
      ]
    },
    {
      "cell_type": "code",
      "metadata": {
        "colab": {
          "base_uri": "https://localhost:8080/"
        },
        "id": "_XHmSrMi3_tm",
        "outputId": "0184cb08-66f0-46b0-ee41-9d7bb851d0f8"
      },
      "source": [
        "print(text)"
      ],
      "execution_count": null,
      "outputs": [
        {
          "output_type": "stream",
          "text": [
            "7 3\n"
          ],
          "name": "stdout"
        }
      ]
    },
    {
      "cell_type": "code",
      "metadata": {
        "colab": {
          "base_uri": "https://localhost:8080/"
        },
        "id": "vaVyn4Kz4Eqo",
        "outputId": "13ea406a-a39a-4b96-c32a-47cffa520e6d"
      },
      "source": [
        "text = input()\r\n",
        "t = text.split(' ')\r\n",
        "a = int(t[0])\r\n",
        "b = int(t[1])\r\n",
        "print(a + b)\r\n",
        "print(a - b)\r\n",
        "print(a * b)\r\n",
        "print(a // b)\r\n",
        "print(a % b)"
      ],
      "execution_count": null,
      "outputs": [
        {
          "output_type": "stream",
          "text": [
            "7 3\n",
            "10\n",
            "4\n",
            "21\n",
            "2\n",
            "1\n"
          ],
          "name": "stdout"
        }
      ]
    },
    {
      "cell_type": "code",
      "metadata": {
        "colab": {
          "base_uri": "https://localhost:8080/"
        },
        "id": "so1asJiM4LFr",
        "outputId": "4c0031c5-9b1a-49b5-f23a-55f1473c1d70"
      },
      "source": [
        "text = input()\r\n",
        "t = text.split(' ')\r\n",
        "a = int(t[0])\r\n",
        "b = int(t[1])\r\n",
        "\r\n",
        "if a > b:\r\n",
        "  print('>')\r\n",
        "elif a < b:\r\n",
        "  print('<')\r\n",
        "else:\r\n",
        "  print('==')"
      ],
      "execution_count": null,
      "outputs": [
        {
          "output_type": "stream",
          "text": [
            "1 2\n",
            "<\n"
          ],
          "name": "stdout"
        }
      ]
    },
    {
      "cell_type": "code",
      "metadata": {
        "colab": {
          "base_uri": "https://localhost:8080/"
        },
        "id": "JLdIYAAJ4YEJ",
        "outputId": "ccfa4580-8f27-4f6e-cec2-53009af38d9b"
      },
      "source": [
        "a = int(input())\r\n",
        "b = int(input())\r\n",
        "\r\n",
        "if a > 0 and b > 0:\r\n",
        "  print('1')\r\n",
        "elif a < 0 and b > 0:\r\n",
        "  print('2')\r\n",
        "elif a < 0 and b < 0:\r\n",
        "  print('3')\r\n",
        "elif a > 0 and b < 0:\r\n",
        "  print('4')"
      ],
      "execution_count": null,
      "outputs": [
        {
          "output_type": "stream",
          "text": [
            "12\n",
            "5\n",
            "1\n"
          ],
          "name": "stdout"
        }
      ]
    },
    {
      "cell_type": "code",
      "metadata": {
        "colab": {
          "base_uri": "https://localhost:8080/"
        },
        "id": "qaV0C9OI4f07",
        "outputId": "546e6c88-559a-4f00-9db8-e84db9b4f154"
      },
      "source": [
        "a = int(input())\r\n",
        "\r\n",
        "if a % 4 == 0:\r\n",
        "  if a % 100 != 0 or a % 400 == 0:\r\n",
        "    print('1')\r\n",
        "  else:\r\n",
        "    print('0')\r\n",
        "else:\r\n",
        "  print('0')"
      ],
      "execution_count": null,
      "outputs": [
        {
          "output_type": "stream",
          "text": [
            "1999\n",
            "0\n"
          ],
          "name": "stdout"
        }
      ]
    },
    {
      "cell_type": "code",
      "metadata": {
        "colab": {
          "base_uri": "https://localhost:8080/"
        },
        "id": "Vg24VVon4mfM",
        "outputId": "6ee5b0ac-051f-43ec-f4b1-bb594a9eecb6"
      },
      "source": [
        "n = int(input())\r\n",
        "\r\n",
        "for i in range(1, 10):\r\n",
        "  print(n, '*', i, '=', n * i)"
      ],
      "execution_count": null,
      "outputs": [
        {
          "output_type": "stream",
          "text": [
            "2\n",
            "2 * 1 = 2\n",
            "2 * 2 = 4\n",
            "2 * 3 = 6\n",
            "2 * 4 = 8\n",
            "2 * 5 = 10\n",
            "2 * 6 = 12\n",
            "2 * 7 = 14\n",
            "2 * 8 = 16\n",
            "2 * 9 = 18\n"
          ],
          "name": "stdout"
        }
      ]
    },
    {
      "cell_type": "code",
      "metadata": {
        "colab": {
          "base_uri": "https://localhost:8080/"
        },
        "id": "spR5DBBP4qv7",
        "outputId": "e229dd89-93a2-46f0-cbac-1e7b774f8c88"
      },
      "source": [
        "n = int(input())\r\n",
        "\r\n",
        "a = 0\r\n",
        "for i in range(1, n + 1):\r\n",
        "  a += i\r\n",
        "print(a)"
      ],
      "execution_count": null,
      "outputs": [
        {
          "output_type": "stream",
          "text": [
            "3\n",
            "6\n"
          ],
          "name": "stdout"
        }
      ]
    },
    {
      "cell_type": "code",
      "metadata": {
        "colab": {
          "base_uri": "https://localhost:8080/"
        },
        "id": "DOL5zq7P4vSI",
        "outputId": "44e5c6ee-0a42-4764-a146-9593b1b7ec49"
      },
      "source": [
        "n = int(input())\r\n",
        "\r\n",
        "a = 1\r\n",
        "for i in range(1, n + 1):\r\n",
        "  a *= i\r\n",
        "print(a)"
      ],
      "execution_count": null,
      "outputs": [
        {
          "output_type": "stream",
          "text": [
            "4\n",
            "24\n"
          ],
          "name": "stdout"
        }
      ]
    }
  ]
}