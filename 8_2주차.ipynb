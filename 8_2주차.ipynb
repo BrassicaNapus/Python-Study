{
  "nbformat": 4,
  "nbformat_minor": 0,
  "metadata": {
    "colab": {
      "name": "8-2주차.ipynb",
      "provenance": [],
      "authorship_tag": "ABX9TyP84oMcf68xM8NDvWi+Je2x",
      "include_colab_link": true
    },
    "kernelspec": {
      "name": "python3",
      "display_name": "Python 3"
    }
  },
  "cells": [
    {
      "cell_type": "markdown",
      "metadata": {
        "id": "view-in-github",
        "colab_type": "text"
      },
      "source": [
        "<a href=\"https://colab.research.google.com/github/yujungha/Python-Study/blob/main/8_2%EC%A3%BC%EC%B0%A8.ipynb\" target=\"_parent\"><img src=\"https://colab.research.google.com/assets/colab-badge.svg\" alt=\"Open In Colab\"/></a>"
      ]
    },
    {
      "cell_type": "code",
      "metadata": {
        "colab": {
          "base_uri": "https://localhost:8080/"
        },
        "id": "2eWaKcUi7Vb7",
        "outputId": "8b57a30d-5eb9-43b5-aca8-518cf0ae74f5"
      },
      "source": [
        "n = 17\n",
        "k = 4\n",
        "a = 0\n",
        "while n != 1:\n",
        "  if n % 4 != 0:\n",
        "    n -= 1\n",
        "  else:\n",
        "    n /= k\n",
        "  a += 1\n",
        "  print(n)\n",
        "print(a)"
      ],
      "execution_count": null,
      "outputs": [
        {
          "output_type": "stream",
          "text": [
            "16\n",
            "4.0\n",
            "1.0\n",
            "3\n"
          ],
          "name": "stdout"
        }
      ]
    },
    {
      "cell_type": "code",
      "metadata": {
        "colab": {
          "base_uri": "https://localhost:8080/"
        },
        "id": "iYLzVGeP9zMS",
        "outputId": "3f53d500-55d4-4e93-cb42-42d6b3ffdd16"
      },
      "source": [
        "s = \"02984\"\n",
        "a = 0\n",
        "for i in range(len(s)):\n",
        "  a += int(s[i])\n",
        "print(a)"
      ],
      "execution_count": null,
      "outputs": [
        {
          "output_type": "stream",
          "text": [
            "23\n"
          ],
          "name": "stdout"
        }
      ]
    },
    {
      "cell_type": "code",
      "metadata": {
        "colab": {
          "base_uri": "https://localhost:8080/"
        },
        "id": "RbpCQ7ikAxCI",
        "outputId": "c85eac46-2305-4f92-b6a0-46351da8fe57"
      },
      "source": [
        "s = \"02984\"\n",
        "a = int(s[0])\n",
        "for i in range(1, len(s)):\n",
        "  if a <= 1 or int(s[i]) <= 1:\n",
        "    a += int(s[i])\n",
        "  else:\n",
        "    a *= int(s[i])\n",
        "print(a)"
      ],
      "execution_count": null,
      "outputs": [
        {
          "output_type": "stream",
          "text": [
            "576\n"
          ],
          "name": "stdout"
        }
      ]
    }
  ]
}