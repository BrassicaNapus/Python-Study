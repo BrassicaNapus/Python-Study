{
  "nbformat": 4,
  "nbformat_minor": 0,
  "metadata": {
    "colab": {
      "name": "4-1주차.ipynb",
      "provenance": [],
      "authorship_tag": "ABX9TyMJ4sibJE86+RG/Q2Q5k/5E",
      "include_colab_link": true
    },
    "kernelspec": {
      "name": "python3",
      "display_name": "Python 3"
    }
  },
  "cells": [
    {
      "cell_type": "markdown",
      "metadata": {
        "id": "view-in-github",
        "colab_type": "text"
      },
      "source": [
        "<a href=\"https://colab.research.google.com/github/yujungha/python-study/blob/main/4_1%EC%A3%BC%EC%B0%A8.ipynb\" target=\"_parent\"><img src=\"https://colab.research.google.com/assets/colab-badge.svg\" alt=\"Open In Colab\"/></a>"
      ]
    },
    {
      "cell_type": "code",
      "metadata": {
        "colab": {
          "base_uri": "https://localhost:8080/"
        },
        "id": "xBA7nGPfDW7G",
        "outputId": "2326f5f4-2acb-4d06-886a-234c75b71032"
      },
      "source": [
        "n = int(input())\r\n",
        "for i in range(1, 10):\r\n",
        "  print(n, '*', i, '=', n*i)"
      ],
      "execution_count": null,
      "outputs": [
        {
          "output_type": "stream",
          "text": [
            "2\n",
            "2 * 1 = 2\n",
            "2 * 2 = 4\n",
            "2 * 3 = 6\n",
            "2 * 4 = 8\n",
            "2 * 5 = 10\n",
            "2 * 6 = 12\n",
            "2 * 7 = 14\n",
            "2 * 8 = 16\n",
            "2 * 9 = 18\n"
          ],
          "name": "stdout"
        }
      ]
    },
    {
      "cell_type": "code",
      "metadata": {
        "colab": {
          "base_uri": "https://localhost:8080/"
        },
        "id": "zexfBB_pDjHw",
        "outputId": "b513f62b-7dbb-464a-f472-317ce65a3047"
      },
      "source": [
        "for i in range(2, 10):\r\n",
        "  print(i,'단 시작입니다')\r\n",
        "  for j in range(1, 10):\r\n",
        "    print(i,'*',j,'=',i*j)"
      ],
      "execution_count": null,
      "outputs": [
        {
          "output_type": "stream",
          "text": [
            "2 단 시작입니다\n",
            "2 * 1 = 2\n",
            "2 * 2 = 4\n",
            "2 * 3 = 6\n",
            "2 * 4 = 8\n",
            "2 * 5 = 10\n",
            "2 * 6 = 12\n",
            "2 * 7 = 14\n",
            "2 * 8 = 16\n",
            "2 * 9 = 18\n",
            "3 단 시작입니다\n",
            "3 * 1 = 3\n",
            "3 * 2 = 6\n",
            "3 * 3 = 9\n",
            "3 * 4 = 12\n",
            "3 * 5 = 15\n",
            "3 * 6 = 18\n",
            "3 * 7 = 21\n",
            "3 * 8 = 24\n",
            "3 * 9 = 27\n",
            "4 단 시작입니다\n",
            "4 * 1 = 4\n",
            "4 * 2 = 8\n",
            "4 * 3 = 12\n",
            "4 * 4 = 16\n",
            "4 * 5 = 20\n",
            "4 * 6 = 24\n",
            "4 * 7 = 28\n",
            "4 * 8 = 32\n",
            "4 * 9 = 36\n",
            "5 단 시작입니다\n",
            "5 * 1 = 5\n",
            "5 * 2 = 10\n",
            "5 * 3 = 15\n",
            "5 * 4 = 20\n",
            "5 * 5 = 25\n",
            "5 * 6 = 30\n",
            "5 * 7 = 35\n",
            "5 * 8 = 40\n",
            "5 * 9 = 45\n",
            "6 단 시작입니다\n",
            "6 * 1 = 6\n",
            "6 * 2 = 12\n",
            "6 * 3 = 18\n",
            "6 * 4 = 24\n",
            "6 * 5 = 30\n",
            "6 * 6 = 36\n",
            "6 * 7 = 42\n",
            "6 * 8 = 48\n",
            "6 * 9 = 54\n",
            "7 단 시작입니다\n",
            "7 * 1 = 7\n",
            "7 * 2 = 14\n",
            "7 * 3 = 21\n",
            "7 * 4 = 28\n",
            "7 * 5 = 35\n",
            "7 * 6 = 42\n",
            "7 * 7 = 49\n",
            "7 * 8 = 56\n",
            "7 * 9 = 63\n",
            "8 단 시작입니다\n",
            "8 * 1 = 8\n",
            "8 * 2 = 16\n",
            "8 * 3 = 24\n",
            "8 * 4 = 32\n",
            "8 * 5 = 40\n",
            "8 * 6 = 48\n",
            "8 * 7 = 56\n",
            "8 * 8 = 64\n",
            "8 * 9 = 72\n",
            "9 단 시작입니다\n",
            "9 * 1 = 9\n",
            "9 * 2 = 18\n",
            "9 * 3 = 27\n",
            "9 * 4 = 36\n",
            "9 * 5 = 45\n",
            "9 * 6 = 54\n",
            "9 * 7 = 63\n",
            "9 * 8 = 72\n",
            "9 * 9 = 81\n"
          ],
          "name": "stdout"
        }
      ]
    },
    {
      "cell_type": "code",
      "metadata": {
        "colab": {
          "base_uri": "https://localhost:8080/"
        },
        "id": "4BXCbXekDmnI",
        "outputId": "42220c41-a083-450a-e7e5-21ded0d43153"
      },
      "source": [
        "n = 5\r\n",
        "for i in range(n):\r\n",
        "  print('*'*(i+1))"
      ],
      "execution_count": null,
      "outputs": [
        {
          "output_type": "stream",
          "text": [
            "*\n",
            "**\n",
            "***\n",
            "****\n",
            "*****\n"
          ],
          "name": "stdout"
        }
      ]
    },
    {
      "cell_type": "code",
      "metadata": {
        "colab": {
          "base_uri": "https://localhost:8080/"
        },
        "id": "tB1SsYmVDvhN",
        "outputId": "edbccede-278e-44ef-d370-699d2a359f5f"
      },
      "source": [
        "n = 5\r\n",
        "for i in range(1, n + 1):\r\n",
        "  for j in range(i):\r\n",
        "    print('*', end = '')\r\n",
        "  print()"
      ],
      "execution_count": null,
      "outputs": [
        {
          "output_type": "stream",
          "text": [
            "*\n",
            "**\n",
            "***\n",
            "****\n",
            "*****\n"
          ],
          "name": "stdout"
        }
      ]
    },
    {
      "cell_type": "code",
      "metadata": {
        "colab": {
          "base_uri": "https://localhost:8080/"
        },
        "id": "vqaCXBp8Dx9K",
        "outputId": "4efcf039-1db9-4d57-9b37-16f381ef20c1"
      },
      "source": [
        "for i in range(5):\r\n",
        "  print('*', end='')"
      ],
      "execution_count": null,
      "outputs": [
        {
          "output_type": "stream",
          "text": [
            "*****"
          ],
          "name": "stdout"
        }
      ]
    },
    {
      "cell_type": "code",
      "metadata": {
        "colab": {
          "base_uri": "https://localhost:8080/"
        },
        "id": "d3CYOaOjD1fh",
        "outputId": "88bef56f-cebf-48ac-84e2-2ffa89db107e"
      },
      "source": [
        "n = int(input())\r\n",
        "for i in range(n):\r\n",
        "  print(' '*(n-1-i)+'*'*(i+1))"
      ],
      "execution_count": null,
      "outputs": [
        {
          "output_type": "stream",
          "text": [
            "4\n",
            "   *\n",
            "  **\n",
            " ***\n",
            "****\n"
          ],
          "name": "stdout"
        }
      ]
    },
    {
      "cell_type": "code",
      "metadata": {
        "colab": {
          "base_uri": "https://localhost:8080/"
        },
        "id": "FkJ7YvhSD3Au",
        "outputId": "37bf74fd-5c19-4864-e651-7c4a7a01f007"
      },
      "source": [
        "n = int(input())\r\n",
        "for i in range(n):\r\n",
        "  # 띄어쓰기\r\n",
        "  for j in range(n-1-i):\r\n",
        "    print(' ', end='')\r\n",
        "  # 별찍기\r\n",
        "  for j in range(i+1):\r\n",
        "    print('*', end='')\r\n",
        "  print()"
      ],
      "execution_count": null,
      "outputs": [
        {
          "output_type": "stream",
          "text": [
            "5\n",
            "    *\n",
            "   **\n",
            "  ***\n",
            " ****\n",
            "*****\n"
          ],
          "name": "stdout"
        }
      ]
    },
    {
      "cell_type": "code",
      "metadata": {
        "colab": {
          "base_uri": "https://localhost:8080/"
        },
        "id": "QhUtMov9D7nB",
        "outputId": "950edf35-7c97-4708-f5e7-1045b1d937b7"
      },
      "source": [
        "n = int(input())\r\n",
        "for i in range(n):\r\n",
        "  for j in range(n-1-i):\r\n",
        "    print(' ', end = '')\r\n",
        "  for j in range(i*2+1):\r\n",
        "    print('*', end = '')\r\n",
        "  print()"
      ],
      "execution_count": null,
      "outputs": [
        {
          "output_type": "stream",
          "text": [
            "5\n",
            "    *\n",
            "   ***\n",
            "  *****\n",
            " *******\n",
            "*********\n"
          ],
          "name": "stdout"
        }
      ]
    },
    {
      "cell_type": "code",
      "metadata": {
        "colab": {
          "base_uri": "https://localhost:8080/"
        },
        "id": "PF_t0O0REAz2",
        "outputId": "2d287b09-9043-45b5-999c-0d135a776e2b"
      },
      "source": [
        "n = int(input())\r\n",
        "for i in range(n):\r\n",
        "  for j in range(i):\r\n",
        "    print(' ', end = '')\r\n",
        "  for j in range((n-1-i)*2+1):\r\n",
        "    print('*', end = '')\r\n",
        "  print()"
      ],
      "execution_count": null,
      "outputs": [
        {
          "output_type": "stream",
          "text": [
            "4\n",
            "*******\n",
            " *****\n",
            "  ***\n",
            "   *\n"
          ],
          "name": "stdout"
        }
      ]
    },
    {
      "cell_type": "code",
      "metadata": {
        "colab": {
          "base_uri": "https://localhost:8080/"
        },
        "id": "bTyUc4xEECym",
        "outputId": "5386d0d7-9042-4295-c7bd-d51d5751c630"
      },
      "source": [
        "n = int(input())\r\n",
        "for i in range(n):\r\n",
        "  for j in range(i):\r\n",
        "    print(' ', end='')\r\n",
        "  for j in range(n-i):\r\n",
        "    print('*', end='')\r\n",
        "  print()"
      ],
      "execution_count": null,
      "outputs": [
        {
          "output_type": "stream",
          "text": [
            "5\n",
            "*****\n",
            " ****\n",
            "  ***\n",
            "   **\n",
            "    *\n"
          ],
          "name": "stdout"
        }
      ]
    }
  ]
}