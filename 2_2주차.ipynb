{
  "nbformat": 4,
  "nbformat_minor": 0,
  "metadata": {
    "colab": {
      "name": "2-2주차.ipynb",
      "provenance": [],
      "authorship_tag": "ABX9TyOfbUDwskaxi9n9N01Nb3Ow",
      "include_colab_link": true
    },
    "kernelspec": {
      "name": "python3",
      "display_name": "Python 3"
    }
  },
  "cells": [
    {
      "cell_type": "markdown",
      "metadata": {
        "id": "view-in-github",
        "colab_type": "text"
      },
      "source": [
        "<a href=\"https://colab.research.google.com/github/yujungha/python-study/blob/main/2_2%EC%A3%BC%EC%B0%A8.ipynb\" target=\"_parent\"><img src=\"https://colab.research.google.com/assets/colab-badge.svg\" alt=\"Open In Colab\"/></a>"
      ]
    },
    {
      "cell_type": "code",
      "metadata": {
        "colab": {
          "base_uri": "https://localhost:8080/"
        },
        "id": "un4t2loZ5GAc",
        "outputId": "8223c242-67a1-44e3-b70a-54bcd96e092e"
      },
      "source": [
        "n = int(input())\r\n",
        "text = input()\r\n",
        "t = text.split(' ')\r\n",
        "t = list(map(int, t))\r\n",
        "\r\n",
        "print(min(t), max(t))"
      ],
      "execution_count": null,
      "outputs": [
        {
          "output_type": "stream",
          "text": [
            "5\n",
            "20 10 35 30 7\n",
            "7 35\n"
          ],
          "name": "stdout"
        }
      ]
    },
    {
      "cell_type": "code",
      "metadata": {
        "colab": {
          "base_uri": "https://localhost:8080/"
        },
        "id": "4-DfooLm5MK-",
        "outputId": "6d2c835a-086a-448d-8b96-7c15b73faef0"
      },
      "source": [
        "text = input()\r\n",
        "t = text.split(' ')\r\n",
        "t = list(map(int, t))"
      ],
      "execution_count": null,
      "outputs": [
        {
          "output_type": "stream",
          "text": [
            "1 2 3 4 5\n"
          ],
          "name": "stdout"
        }
      ]
    },
    {
      "cell_type": "code",
      "metadata": {
        "colab": {
          "base_uri": "https://localhost:8080/"
        },
        "id": "L-WI-C-v6JpT",
        "outputId": "3397d957-dee3-4e37-eeb9-d61e764999cc"
      },
      "source": [
        "l = [10, 15, 30, 21, 11]\r\n",
        "\r\n",
        "a = 0\r\n",
        "b = 0\r\n",
        "for i in range(5):\r\n",
        "  print(l[i], i + 1)\r\n",
        "  if a < l[i]:\r\n",
        "    a = l[i]\r\n",
        "    b = i + 1\r\n",
        "a, b"
      ],
      "execution_count": null,
      "outputs": [
        {
          "output_type": "stream",
          "text": [
            "10 1\n",
            "15 2\n",
            "30 3\n",
            "21 4\n",
            "11 5\n"
          ],
          "name": "stdout"
        },
        {
          "output_type": "execute_result",
          "data": {
            "text/plain": [
              "(30, 3)"
            ]
          },
          "metadata": {
            "tags": []
          },
          "execution_count": 4
        }
      ]
    },
    {
      "cell_type": "code",
      "metadata": {
        "colab": {
          "base_uri": "https://localhost:8080/"
        },
        "id": "bQXlPM8T6OO2",
        "outputId": "34566923-821c-41e1-83a0-6c84adf5a2c3"
      },
      "source": [
        "l = []\r\n",
        "for _ in range(4):\r\n",
        "  l.append(int(input()))\r\n",
        "\r\n",
        "a = 0\r\n",
        "b = 0\r\n",
        "for i in range(4):\r\n",
        "  if a < l[i]:\r\n",
        "    a = l[i]\r\n",
        "    b = i + 1\r\n",
        "print(l)\r\n",
        "print(a)\r\n",
        "print(b)"
      ],
      "execution_count": null,
      "outputs": [
        {
          "output_type": "stream",
          "text": [
            "3\n",
            "29\n",
            "38\n",
            "12\n",
            "[3, 29, 38, 12]\n",
            "38\n",
            "3\n"
          ],
          "name": "stdout"
        }
      ]
    },
    {
      "cell_type": "code",
      "metadata": {
        "colab": {
          "base_uri": "https://localhost:8080/"
        },
        "id": "LQj4Muju6adL",
        "outputId": "6d2c7d32-97f1-4ef0-d239-a977ae1d6a56"
      },
      "source": [
        "l = []\r\n",
        "for _ in range(4):\r\n",
        "  l.append(int(input()))\r\n",
        "print(l)\r\n",
        "print(max(l))\r\n",
        "print(l.index(max(l)))"
      ],
      "execution_count": null,
      "outputs": [
        {
          "output_type": "stream",
          "text": [
            "50\n",
            "80\n",
            "90\n",
            "60\n",
            "[50, 80, 90, 60]\n",
            "90\n",
            "2\n"
          ],
          "name": "stdout"
        }
      ]
    },
    {
      "cell_type": "code",
      "metadata": {
        "colab": {
          "base_uri": "https://localhost:8080/"
        },
        "id": "m5DxvtUJ7NBC",
        "outputId": "8fcbe5a2-a44b-48cb-f042-fa55b90d3dbe"
      },
      "source": [
        "l = [5, 50, 50, 70, 80, 100]\r\n",
        "\r\n",
        "a = 0\r\n",
        "for i in range(1, len(l)):\r\n",
        "  a += l[i]\r\n",
        "\r\n",
        "b = a / l[0]\r\n",
        "c = 0\r\n",
        "for i in range(1, len(l)):\r\n",
        "  if b < l[i]:\r\n",
        "    c += 1\r\n",
        "c / l[0] * 100"
      ],
      "execution_count": null,
      "outputs": [
        {
          "output_type": "execute_result",
          "data": {
            "text/plain": [
              "40.0"
            ]
          },
          "metadata": {
            "tags": []
          },
          "execution_count": 11
        }
      ]
    }
  ]
}