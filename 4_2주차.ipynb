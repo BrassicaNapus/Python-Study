{
  "nbformat": 4,
  "nbformat_minor": 0,
  "metadata": {
    "colab": {
      "name": "4-2주차.ipynb",
      "provenance": [],
      "authorship_tag": "ABX9TyONcP9cYvjkRuhydhJfhDZ6",
      "include_colab_link": true
    },
    "kernelspec": {
      "name": "python3",
      "display_name": "Python 3"
    }
  },
  "cells": [
    {
      "cell_type": "markdown",
      "metadata": {
        "id": "view-in-github",
        "colab_type": "text"
      },
      "source": [
        "<a href=\"https://colab.research.google.com/github/yujungha/python-study/blob/main/4_2%EC%A3%BC%EC%B0%A8.ipynb\" target=\"_parent\"><img src=\"https://colab.research.google.com/assets/colab-badge.svg\" alt=\"Open In Colab\"/></a>"
      ]
    },
    {
      "cell_type": "code",
      "metadata": {
        "colab": {
          "base_uri": "https://localhost:8080/"
        },
        "id": "a4z3UOPZERNv",
        "outputId": "46600392-e553-4261-8252-16b7139d95d8"
      },
      "source": [
        "text = input()\r\n",
        "t = text.split(' ')\r\n",
        "t = list(map(int, t))\r\n",
        "x = t[0]\r\n",
        "y = t[1]\r\n",
        "w = t[2]\r\n",
        "h = t[3]\r\n",
        "l = [x, y, w-x, h-y]\r\n",
        "print(min(l))"
      ],
      "execution_count": null,
      "outputs": [
        {
          "output_type": "stream",
          "text": [
            "6 2 10 3\n",
            "1\n"
          ],
          "name": "stdout"
        }
      ]
    },
    {
      "cell_type": "code",
      "metadata": {
        "colab": {
          "base_uri": "https://localhost:8080/"
        },
        "id": "CMZ-7GunEaNJ",
        "outputId": "0973f3b5-17de-473f-db62-ba152e59b66e"
      },
      "source": [
        "!pip install pykrx"
      ],
      "execution_count": null,
      "outputs": [
        {
          "output_type": "stream",
          "text": [
            "Collecting pykrx\n",
            "\u001b[?25l  Downloading https://files.pythonhosted.org/packages/8f/ee/d4890e586f2b633f203344ddd1bc583e997a85d07e313cd796c7d2ce350b/pykrx-1.0.11-py3-none-any.whl (64kB)\n",
            "\r\u001b[K     |█████                           | 10kB 17.4MB/s eta 0:00:01\r\u001b[K     |██████████▏                     | 20kB 11.3MB/s eta 0:00:01\r\u001b[K     |███████████████▏                | 30kB 8.5MB/s eta 0:00:01\r\u001b[K     |████████████████████▎           | 40kB 7.5MB/s eta 0:00:01\r\u001b[K     |█████████████████████████▎      | 51kB 4.2MB/s eta 0:00:01\r\u001b[K     |██████████████████████████████▍ | 61kB 4.8MB/s eta 0:00:01\r\u001b[K     |████████████████████████████████| 71kB 3.3MB/s \n",
            "\u001b[?25hCollecting deprecated\n",
            "  Downloading https://files.pythonhosted.org/packages/d4/56/7d4774533d2c119e1873993d34d313c9c9efc88c5e4ab7e33bdf915ad98c/Deprecated-1.2.11-py2.py3-none-any.whl\n",
            "Requirement already satisfied: numpy in /usr/local/lib/python3.7/dist-packages (from pykrx) (1.19.5)\n",
            "Requirement already satisfied: xlrd in /usr/local/lib/python3.7/dist-packages (from pykrx) (1.1.0)\n",
            "Collecting datetime\n",
            "\u001b[?25l  Downloading https://files.pythonhosted.org/packages/73/22/a5297f3a1f92468cc737f8ce7ba6e5f245fcfafeae810ba37bd1039ea01c/DateTime-4.3-py2.py3-none-any.whl (60kB)\n",
            "\u001b[K     |████████████████████████████████| 61kB 5.8MB/s \n",
            "\u001b[?25hRequirement already satisfied: pandas in /usr/local/lib/python3.7/dist-packages (from pykrx) (1.1.5)\n",
            "Requirement already satisfied: requests in /usr/local/lib/python3.7/dist-packages (from pykrx) (2.23.0)\n",
            "Requirement already satisfied: wrapt<2,>=1.10 in /usr/local/lib/python3.7/dist-packages (from deprecated->pykrx) (1.12.1)\n",
            "Collecting zope.interface\n",
            "\u001b[?25l  Downloading https://files.pythonhosted.org/packages/f8/42/d8f11eaef844bee267821281fffe445e49cf31b486d72a81821a9d45cd0a/zope.interface-5.2.0-cp37-cp37m-manylinux2010_x86_64.whl (237kB)\n",
            "\u001b[K     |████████████████████████████████| 245kB 24.0MB/s \n",
            "\u001b[?25hRequirement already satisfied: pytz in /usr/local/lib/python3.7/dist-packages (from datetime->pykrx) (2018.9)\n",
            "Requirement already satisfied: python-dateutil>=2.7.3 in /usr/local/lib/python3.7/dist-packages (from pandas->pykrx) (2.8.1)\n",
            "Requirement already satisfied: certifi>=2017.4.17 in /usr/local/lib/python3.7/dist-packages (from requests->pykrx) (2020.12.5)\n",
            "Requirement already satisfied: idna<3,>=2.5 in /usr/local/lib/python3.7/dist-packages (from requests->pykrx) (2.10)\n",
            "Requirement already satisfied: urllib3!=1.25.0,!=1.25.1,<1.26,>=1.21.1 in /usr/local/lib/python3.7/dist-packages (from requests->pykrx) (1.24.3)\n",
            "Requirement already satisfied: chardet<4,>=3.0.2 in /usr/local/lib/python3.7/dist-packages (from requests->pykrx) (3.0.4)\n",
            "Requirement already satisfied: setuptools in /usr/local/lib/python3.7/dist-packages (from zope.interface->datetime->pykrx) (54.0.0)\n",
            "Requirement already satisfied: six>=1.5 in /usr/local/lib/python3.7/dist-packages (from python-dateutil>=2.7.3->pandas->pykrx) (1.15.0)\n",
            "Installing collected packages: deprecated, zope.interface, datetime, pykrx\n",
            "Successfully installed datetime-4.3 deprecated-1.2.11 pykrx-1.0.11 zope.interface-5.2.0\n"
          ],
          "name": "stdout"
        }
      ]
    },
    {
      "cell_type": "code",
      "metadata": {
        "colab": {
          "base_uri": "https://localhost:8080/"
        },
        "id": "XidRprvkE95w",
        "outputId": "4c43255f-492a-4ce1-9f28-51f3f876cbf7"
      },
      "source": [
        "from pykrx import stock\r\n",
        "code = \"005930\"\r\n",
        "fundamental = stock.get_market_fundamental_by_date(\"20150101\", \"20201030\", code, \"d\")\r\n",
        "print(fundamental)\r\n",
        "ohlcv = stock.get_market_ohlcv_by_date(\"20150101\", \"20201030\", code)\r\n",
        "print(ohlcv)"
      ],
      "execution_count": null,
      "outputs": [
        {
          "output_type": "stream",
          "text": [
            "               BPS    PER   PBR     EPS   DIV    DPS\n",
            "날짜                                                  \n",
            "2015-01-02  848999   6.72  1.57  197841  1.08  14300\n",
            "2015-01-05  848999   6.74  1.57  197841  1.07  14300\n",
            "2015-01-06  848999   6.55  1.53  197841  1.10  14300\n",
            "2015-01-07  848999   6.61  1.54  197841  1.09  14300\n",
            "2015-01-08  848999   6.64  1.55  197841  1.09  14300\n",
            "...            ...    ...   ...     ...   ...    ...\n",
            "2020-10-26   37528  19.08  1.61    3166  2.34   1416\n",
            "2020-10-27   37528  18.89  1.59    3166  2.37   1416\n",
            "2020-10-28   37528  18.64  1.57    3166  2.40   1416\n",
            "2020-10-29   37528  18.35  1.55    3166  2.44   1416\n",
            "2020-10-30   37528  17.88  1.51    3166  2.50   1416\n",
            "\n",
            "[1433 rows x 6 columns]\n",
            "               시가     고가     저가     종가       거래량\n",
            "날짜                                              \n",
            "2015-01-02  26799  26799  26540  26600    175499\n",
            "2015-01-05  26720  26720  26260  26660    202790\n",
            "2015-01-06  26300  26340  25760  25900    304710\n",
            "2015-01-07  25880  26220  25640  26140    286455\n",
            "2015-01-08  26780  26780  26199  26280    289552\n",
            "...           ...    ...    ...    ...       ...\n",
            "2020-10-26  60400  61100  60100  60400  13268226\n",
            "2020-10-27  60300  60300  59500  59800  17260416\n",
            "2020-10-28  59400  59400  58800  59000  14428882\n",
            "2020-10-29  58200  58500  57500  58100  22636966\n",
            "2020-10-30  58000  58000  56600  56600  26907844\n",
            "\n",
            "[1433 rows x 5 columns]\n"
          ],
          "name": "stdout"
        }
      ]
    },
    {
      "cell_type": "code",
      "metadata": {
        "colab": {
          "base_uri": "https://localhost:8080/",
          "height": 265
        },
        "id": "kXiWwfmgFFtS",
        "outputId": "dc6f79b8-94e6-4a92-95ba-e6728ddacd35"
      },
      "source": [
        "import matplotlib.pyplot as plt\r\n",
        "\r\n",
        "a = ohlcv.loc[:, '고가':'저가'].values.mean(1)\r\n",
        "plt.plot(a)\r\n",
        "plt.show()"
      ],
      "execution_count": null,
      "outputs": [
        {
          "output_type": "display_data",
          "data": {
            "image/png": "[encoded data removed]",
            "text/plain": [
              "<Figure size 432x288 with 1 Axes>"
            ]
          },
          "metadata": {
            "tags": [],
            "needs_background": "light"
          }
        }
      ]
    },
    {
      "cell_type": "code",
      "metadata": {
        "colab": {
          "base_uri": "https://localhost:8080/",
          "height": 265
        },
        "id": "ddfYw1LXFQn1",
        "outputId": "60d001b7-6584-4b50-e171-0cc326994b5b"
      },
      "source": [
        "import numpy as np\r\n",
        "import matplotlib.pyplot as plt\r\n",
        "import pandas as pd\r\n",
        "\r\n",
        "a = np.array([100,120,130,140,0,170])\r\n",
        "plt.scatter(range(len(a)), a)\r\n",
        "plt.show()"
      ],
      "execution_count": null,
      "outputs": [
        {
          "output_type": "display_data",
          "data": {
            "image/png": "[encoded data removed]",
            "text/plain": [
              "<Figure size 432x288 with 1 Axes>"
            ]
          },
          "metadata": {
            "tags": [],
            "needs_background": "light"
          }
        }
      ]
    },
    {
      "cell_type": "code",
      "metadata": {
        "id": "KGdHvJcrGK3f"
      },
      "source": [
        "b = pd.DataFrame(a)\r\n",
        "c = b.replace(0, np.nan)\r\n",
        "d = c.interpolation()\r\n",
        "\r\n",
        "plt.scatter(range(len(a)), d)\r\n",
        "plt.show()"
      ],
      "execution_count": null,
      "outputs": []
    }
  ]
}