{
  "nbformat": 4,
  "nbformat_minor": 0,
  "metadata": {
    "colab": {
      "name": "5-2주차.ipynb",
      "provenance": [],
      "authorship_tag": "ABX9TyOmk8FFRnW/SZ0+WQTnGsXc",
      "include_colab_link": true
    },
    "kernelspec": {
      "name": "python3",
      "display_name": "Python 3"
    }
  },
  "cells": [
    {
      "cell_type": "markdown",
      "metadata": {
        "id": "view-in-github",
        "colab_type": "text"
      },
      "source": [
        "<a href=\"https://colab.research.google.com/github/yujungha/python-study/blob/main/5_2%EC%A3%BC%EC%B0%A8.ipynb\" target=\"_parent\"><img src=\"https://colab.research.google.com/assets/colab-badge.svg\" alt=\"Open In Colab\"/></a>"
      ]
    },
    {
      "cell_type": "code",
      "metadata": {
        "colab": {
          "base_uri": "https://localhost:8080/"
        },
        "id": "QzByynPmIipJ",
        "outputId": "67696e89-9fb4-48d5-c65e-f897677fae0e"
      },
      "source": [
        "arr = [4,2,1,5,9,1,2]\r\n",
        "# arr.count(min(arr))\r\n",
        "arr.sort()\r\n",
        "arr.reverse()\r\n",
        "arr"
      ],
      "execution_count": null,
      "outputs": [
        {
          "output_type": "execute_result",
          "data": {
            "text/plain": [
              "[9, 5, 4, 2, 2, 1, 1]"
            ]
          },
          "metadata": {
            "tags": []
          },
          "execution_count": 1
        }
      ]
    },
    {
      "cell_type": "code",
      "metadata": {
        "colab": {
          "base_uri": "https://localhost:8080/"
        },
        "id": "laFZWm5oImc0",
        "outputId": "c1b1336d-8bd6-4f53-90f0-c01bb073845d"
      },
      "source": [
        "arr = [4,2,1,5,9,1,2]\r\n",
        "a = arr[0]\r\n",
        "arr[0] = arr[len(arr)-1]\r\n",
        "arr[len(arr)-1] = a\r\n",
        "arr"
      ],
      "execution_count": null,
      "outputs": [
        {
          "output_type": "execute_result",
          "data": {
            "text/plain": [
              "[2, 2, 1, 5, 9, 1, 4]"
            ]
          },
          "metadata": {
            "tags": []
          },
          "execution_count": 2
        }
      ]
    },
    {
      "cell_type": "code",
      "metadata": {
        "colab": {
          "base_uri": "https://localhost:8080/"
        },
        "id": "aHVNUZzUIphG",
        "outputId": "a10dc775-1d0e-4397-934c-2a70a97aa0ea"
      },
      "source": [
        "import random\r\n",
        "l = []\r\n",
        "for i in range(20):\r\n",
        "  l.append(random.randint(1, 10))\r\n",
        "print(l)"
      ],
      "execution_count": null,
      "outputs": [
        {
          "output_type": "stream",
          "text": [
            "[1, 4, 10, 8, 10, 6, 7, 5, 10, 6, 7, 9, 7, 4, 5, 4, 8, 8, 5, 10]\n"
          ],
          "name": "stdout"
        }
      ]
    },
    {
      "cell_type": "code",
      "metadata": {
        "colab": {
          "base_uri": "https://localhost:8080/"
        },
        "id": "kKPXGRNFIrc9",
        "outputId": "ce0af077-7a67-4dc5-9810-b998cdb4759a"
      },
      "source": [
        "'''\r\n",
        "내가 가진 돈 = 100\r\n",
        "딱지 가격이 5원 이하면 산다\r\n",
        "가진 딱지의 개수, 내가 가진 돈 출력\r\n",
        "'''\r\n",
        "money = 20\r\n",
        "딱지_개수 = 0\r\n",
        "전설_딱지 = 0\r\n",
        "z = []\r\n",
        "m = []\r\n",
        "for i in range(20):\r\n",
        "  if l[i] <= 5:\r\n",
        "    if money >= l[i]:\r\n",
        "      rand2 = random.random()\r\n",
        "      if rand2 < 0.1:\r\n",
        "        전설_딱지 += 1\r\n",
        "      else:\r\n",
        "        딱지_개수 += 1\r\n",
        "      money -= l[i]\r\n",
        "  if i % 2 == 0:\r\n",
        "    money += l[i] * 2\r\n",
        "  rand = random.random()\r\n",
        "  if rand < 0.7:\r\n",
        "    딱지_개수 *= 2\r\n",
        "  elif 0.7 <= rand and rand < 0.8:\r\n",
        "    딱지_개수 = 0\r\n",
        "  z.append(딱지_개수)\r\n",
        "  m.append(money)\r\n",
        "\r\n",
        "print(딱지_개수, money)\r\n",
        "print(z)\r\n",
        "print(m)"
      ],
      "execution_count": null,
      "outputs": [
        {
          "output_type": "stream",
          "text": [
            "4 132\n",
            "[0, 0, 0, 0, 0, 0, 0, 2, 0, 0, 0, 0, 0, 1, 4, 10, 0, 0, 2, 4]\n",
            "[21, 17, 37, 37, 57, 57, 71, 66, 86, 86, 100, 100, 114, 110, 115, 111, 127, 127, 132, 132]\n"
          ],
          "name": "stdout"
        }
      ]
    },
    {
      "cell_type": "code",
      "metadata": {
        "id": "3rA-YrSwItIL"
      },
      "source": [
        "import numpy as np\r\n",
        "import matplotlib.pyplot as plt"
      ],
      "execution_count": null,
      "outputs": []
    },
    {
      "cell_type": "code",
      "metadata": {
        "colab": {
          "base_uri": "https://localhost:8080/",
          "height": 265
        },
        "id": "C97WPpoPIvB_",
        "outputId": "3b6fbb89-1e18-4f4e-c3f7-ec6204d014ef"
      },
      "source": [
        "plt.plot(range(20), z)\r\n",
        "plt.show()"
      ],
      "execution_count": null,
      "outputs": [
        {
          "output_type": "display_data",
          "data": {
            "image/png": "[encoded data removed]",
            "text/plain": [
              "<Figure size 432x288 with 1 Axes>"
            ]
          },
          "metadata": {
            "tags": [],
            "needs_background": "light"
          }
        }
      ]
    },
    {
      "cell_type": "code",
      "metadata": {
        "colab": {
          "base_uri": "https://localhost:8080/",
          "height": 265
        },
        "id": "GR8CAYY8Iwa_",
        "outputId": "84e4720d-0751-4361-f14a-1c6da04df659"
      },
      "source": [
        "plt.plot(range(20), m)\r\n",
        "plt.show()"
      ],
      "execution_count": null,
      "outputs": [
        {
          "output_type": "display_data",
          "data": {
            "image/png": "[encoded data removed]",
            "text/plain": [
              "<Figure size 432x288 with 1 Axes>"
            ]
          },
          "metadata": {
            "tags": [],
            "needs_background": "light"
          }
        }
      ]
    }
  ]
}