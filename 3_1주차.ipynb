{
  "nbformat": 4,
  "nbformat_minor": 0,
  "metadata": {
    "colab": {
      "name": "3-1주차.ipynb",
      "provenance": [],
      "authorship_tag": "ABX9TyPaMGFzyKPTfcpc8sqCE2Wx",
      "include_colab_link": true
    },
    "kernelspec": {
      "name": "python3",
      "display_name": "Python 3"
    }
  },
  "cells": [
    {
      "cell_type": "markdown",
      "metadata": {
        "id": "view-in-github",
        "colab_type": "text"
      },
      "source": [
        "<a href=\"https://colab.research.google.com/github/yujungha/python-study/blob/main/3_1%EC%A3%BC%EC%B0%A8.ipynb\" target=\"_parent\"><img src=\"https://colab.research.google.com/assets/colab-badge.svg\" alt=\"Open In Colab\"/></a>"
      ]
    },
    {
      "cell_type": "code",
      "metadata": {
        "colab": {
          "base_uri": "https://localhost:8080/"
        },
        "id": "KTtamCbn7x4b",
        "outputId": "35831404-109f-420b-e651-3aae8762f4da"
      },
      "source": [
        "n = int(input())\r\n",
        "res = []\r\n",
        "for i in range(n):\r\n",
        "  t = input()\r\n",
        "  t = t.split(' ')\r\n",
        "  l = list(map(int, t))\r\n",
        "\r\n",
        "  a = 0\r\n",
        "  for i in range(1, len(l)):\r\n",
        "    a += l[i]\r\n",
        "\r\n",
        "  b = a / l[0]\r\n",
        "  c = 0\r\n",
        "  for i in range(1, len(l)):\r\n",
        "    if b < l[i]:\r\n",
        "      c += 1  \r\n",
        "  res.append(c / l[0] * 100)\r\n",
        "\r\n",
        "for i in range(len(res)):\r\n",
        "  print('%.3f%%'%(res[i]))"
      ],
      "execution_count": null,
      "outputs": [
        {
          "output_type": "stream",
          "text": [
            "5\n",
            "5 50 50 70 80 100\n",
            "7 100 95 90 80 70 60 50\n",
            "3 70 90 80\n",
            "3 70 90 81\n",
            "9 100 99 98 97 96 95 94 93 91\n",
            "40.000%\n",
            "57.143%\n",
            "33.333%\n",
            "66.667%\n",
            "55.556%\n"
          ],
          "name": "stdout"
        }
      ]
    },
    {
      "cell_type": "code",
      "metadata": {
        "colab": {
          "base_uri": "https://localhost:8080/"
        },
        "id": "5pEX_fDO8B1L",
        "outputId": "77d683ef-cf8c-4644-c1ca-f11783e83412"
      },
      "source": [
        "import numpy as np\r\n",
        "np.sum([[1, 2],\r\n",
        "           [3, 4]], axis=0)\r\n",
        "\r\n",
        "#[1, 2] + [3, 4] = [4, 6]\r\n",
        "\r\n",
        "np.sum([[1, 2],\r\n",
        "          [3, 4]], axis=1)\r\n",
        "# 1 + 2\r\n",
        "# 3 + 4"
      ],
      "execution_count": null,
      "outputs": [
        {
          "output_type": "execute_result",
          "data": {
            "text/plain": [
              "array([3, 7])"
            ]
          },
          "metadata": {
            "tags": []
          },
          "execution_count": 2
        }
      ]
    },
    {
      "cell_type": "code",
      "metadata": {
        "colab": {
          "base_uri": "https://localhost:8080/",
          "height": 265
        },
        "id": "dZVn0pHC8W_z",
        "outputId": "399797d6-c436-4502-f959-c65d73a6c65d"
      },
      "source": [
        "import matplotlib.pyplot as plt\r\n",
        "import numpy as np\r\n",
        "\r\n",
        "x = np.array([1,2,4,1,3])\r\n",
        "y = np.array([2,5,2,6,3])\r\n",
        "plt.plot(x,y)\r\n",
        "plt.show()"
      ],
      "execution_count": null,
      "outputs": [
        {
          "output_type": "display_data",
          "data": {
            "image/png": "[encoded data removed]",
            "text/plain": [
              "<Figure size 432x288 with 1 Axes>"
            ]
          },
          "metadata": {
            "tags": [],
            "needs_background": "light"
          }
        }
      ]
    },
    {
      "cell_type": "code",
      "metadata": {
        "colab": {
          "base_uri": "https://localhost:8080/"
        },
        "id": "02pT93zy8av3",
        "outputId": "eef81393-9d26-46e6-c9e5-4fe28f6162f2"
      },
      "source": [
        "10**3"
      ],
      "execution_count": null,
      "outputs": [
        {
          "output_type": "execute_result",
          "data": {
            "text/plain": [
              "1000"
            ]
          },
          "metadata": {
            "tags": []
          },
          "execution_count": 1
        }
      ]
    },
    {
      "cell_type": "code",
      "metadata": {
        "id": "Br81E8OWCm6g",
        "colab": {
          "base_uri": "https://localhost:8080/"
        },
        "outputId": "bfc798ed-51c6-4755-e59f-f91e54ea7398"
      },
      "source": [
        "a = list(map(int, '72036854775807'))\r\n",
        "b = list(map(int, '72036854775808'))\r\n",
        "e = 0\r\n",
        "for i in range(len(a)):\r\n",
        "  c = a[-(i+1)] + b[-(i+1)]\r\n",
        "  d = 10**i\r\n",
        "  print(c * d)\r\n",
        "  e += c * d\r\n",
        "print(e)"
      ],
      "execution_count": null,
      "outputs": [
        {
          "output_type": "stream",
          "text": [
            "15\n",
            "0\n",
            "1600\n",
            "10000\n",
            "140000\n",
            "1400000\n",
            "8000000\n",
            "100000000\n",
            "1600000000\n",
            "12000000000\n",
            "60000000000\n",
            "0\n",
            "4000000000000\n",
            "140000000000000\n",
            "144073709551615\n"
          ],
          "name": "stdout"
        }
      ]
    }
  ]
}