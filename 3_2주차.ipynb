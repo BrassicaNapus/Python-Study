{
  "nbformat": 4,
  "nbformat_minor": 0,
  "metadata": {
    "colab": {
      "name": "3-2주차.ipynb",
      "provenance": [],
      "authorship_tag": "ABX9TyPszUvBNTcnPALFvCpSnEGn",
      "include_colab_link": true
    },
    "kernelspec": {
      "name": "python3",
      "display_name": "Python 3"
    }
  },
  "cells": [
    {
      "cell_type": "markdown",
      "metadata": {
        "id": "view-in-github",
        "colab_type": "text"
      },
      "source": [
        "<a href=\"https://colab.research.google.com/github/yujungha/python-study/blob/main/3_2%EC%A3%BC%EC%B0%A8.ipynb\" target=\"_parent\"><img src=\"https://colab.research.google.com/assets/colab-badge.svg\" alt=\"Open In Colab\"/></a>"
      ]
    },
    {
      "cell_type": "code",
      "metadata": {
        "colab": {
          "base_uri": "https://localhost:8080/"
        },
        "id": "G0Ps-tkn86N-",
        "outputId": "3133c400-974d-44f7-dcbb-8aa762d53c61"
      },
      "source": [
        "n = 1\r\n",
        "l = [0, 1, 2, 3, 4]\r\n",
        "\r\n",
        "print(n in l)"
      ],
      "execution_count": null,
      "outputs": [
        {
          "output_type": "stream",
          "text": [
            "True\n"
          ],
          "name": "stdout"
        }
      ]
    },
    {
      "cell_type": "code",
      "metadata": {
        "colab": {
          "base_uri": "https://localhost:8080/"
        },
        "id": "OPbdp4A2CDDs",
        "outputId": "003d1515-b312-471e-ba63-e14d58fa80e5"
      },
      "source": [
        "while True:\r\n",
        "  text = input()\r\n",
        "  t = text.split(' ')\r\n",
        "  t = sorted(list(map(int, t)))\r\n",
        "  if t == [0, 0, 0]:\r\n",
        "    break\r\n",
        "  if t[0]**2 + t[1]**2 == t[2]**2:\r\n",
        "    print('right')\r\n",
        "  else:\r\n",
        "    print('wrong')"
      ],
      "execution_count": null,
      "outputs": [
        {
          "output_type": "stream",
          "text": [
            "6 8 10\n",
            "right\n",
            "25 52 60\n",
            "wrong\n",
            "13 12 5\n",
            "right\n",
            "0 0 0\n"
          ],
          "name": "stdout"
        }
      ]
    },
    {
      "cell_type": "code",
      "metadata": {
        "id": "7bbsiq6qCGQ6",
        "colab": {
          "base_uri": "https://localhost:8080/"
        },
        "outputId": "28942944-2ab9-4492-f159-7e7632f743a3"
      },
      "source": [
        "n = int(input())\r\n",
        "text = input()\r\n",
        "t = text.split(' ')\r\n",
        "t = list(map(int, t))\r\n",
        "a = 0\r\n",
        "for i in t:\r\n",
        "  # i = 5\r\n",
        "  b = 0\r\n",
        "  for j in range(1, i + 1):\r\n",
        "    if i % j == 0:\r\n",
        "      b += 1\r\n",
        "  if b == 2:\r\n",
        "    a += 1\r\n",
        "print(a)"
      ],
      "execution_count": null,
      "outputs": [
        {
          "output_type": "stream",
          "text": [
            "4\n",
            "1 3 5 7\n",
            "3\n"
          ],
          "name": "stdout"
        }
      ]
    },
    {
      "cell_type": "code",
      "metadata": {
        "colab": {
          "base_uri": "https://localhost:8080/"
        },
        "id": "cHn3_ApJC6CT",
        "outputId": "88e60f47-0159-4ed6-d37b-d2efc7e4e5a4"
      },
      "source": [
        "n = int(input())\r\n",
        "c = 2\r\n",
        "while True:\r\n",
        "  if n % c == 0:\r\n",
        "    print(c)\r\n",
        "    n = n / c\r\n",
        "  else:\r\n",
        "    c += 1\r\n",
        "  if n == 1:\r\n",
        "    break"
      ],
      "execution_count": null,
      "outputs": [
        {
          "output_type": "stream",
          "text": [
            "72\n",
            "2\n",
            "2\n",
            "2\n",
            "3\n",
            "3\n"
          ],
          "name": "stdout"
        }
      ]
    }
  ]
}