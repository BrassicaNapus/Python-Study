{
  "nbformat": 4,
  "nbformat_minor": 0,
  "metadata": {
    "colab": {
      "name": "1-1주차.ipynb",
      "provenance": [],
      "authorship_tag": "ABX9TyMnV2uHT+87lnkckymfDu8n",
      "include_colab_link": true
    },
    "kernelspec": {
      "name": "python3",
      "display_name": "Python 3"
    }
  },
  "cells": [
    {
      "cell_type": "markdown",
      "metadata": {
        "id": "view-in-github",
        "colab_type": "text"
      },
      "source": [
        "<a href=\"https://colab.research.google.com/github/yujungha/python-study/blob/main/1_1%EC%A3%BC%EC%B0%A8.ipynb\" target=\"_parent\"><img src=\"https://colab.research.google.com/assets/colab-badge.svg\" alt=\"Open In Colab\"/></a>"
      ]
    },
    {
      "cell_type": "code",
      "metadata": {
        "id": "MycZMTBh0wEh"
      },
      "source": [
        "# 자료형\r\n",
        "a = 0\r\n",
        "b = \"안녕하세요\"\r\n",
        "c = [1, 2, 3]\r\n",
        "person = {\r\n",
        "    \"cm\" : 1,\r\n",
        "    \"weight\" : 21,\r\n",
        "}\r\n",
        "e = True\r\n",
        "e = False\r\n",
        "f = 0.9348392185"
      ],
      "execution_count": null,
      "outputs": []
    },
    {
      "cell_type": "code",
      "metadata": {
        "colab": {
          "base_uri": "https://localhost:8080/"
        },
        "id": "oywu-eca1JIU",
        "outputId": "6794769e-c077-4535-a9ef-3af596151b80"
      },
      "source": [
        "# 반복문\r\n",
        "for i in range(2, 10):\r\n",
        "  for j in range(1, 10):\r\n",
        "    print(i, \"x\", j, \"=\", i*j)"
      ],
      "execution_count": null,
      "outputs": [
        {
          "output_type": "stream",
          "text": [
            "2 x 1 = 2\n",
            "2 x 2 = 4\n",
            "2 x 3 = 6\n",
            "2 x 4 = 8\n",
            "2 x 5 = 10\n",
            "2 x 6 = 12\n",
            "2 x 7 = 14\n",
            "2 x 8 = 16\n",
            "2 x 9 = 18\n",
            "3 x 1 = 3\n",
            "3 x 2 = 6\n",
            "3 x 3 = 9\n",
            "3 x 4 = 12\n",
            "3 x 5 = 15\n",
            "3 x 6 = 18\n",
            "3 x 7 = 21\n",
            "3 x 8 = 24\n",
            "3 x 9 = 27\n",
            "4 x 1 = 4\n",
            "4 x 2 = 8\n",
            "4 x 3 = 12\n",
            "4 x 4 = 16\n",
            "4 x 5 = 20\n",
            "4 x 6 = 24\n",
            "4 x 7 = 28\n",
            "4 x 8 = 32\n",
            "4 x 9 = 36\n",
            "5 x 1 = 5\n",
            "5 x 2 = 10\n",
            "5 x 3 = 15\n",
            "5 x 4 = 20\n",
            "5 x 5 = 25\n",
            "5 x 6 = 30\n",
            "5 x 7 = 35\n",
            "5 x 8 = 40\n",
            "5 x 9 = 45\n",
            "6 x 1 = 6\n",
            "6 x 2 = 12\n",
            "6 x 3 = 18\n",
            "6 x 4 = 24\n",
            "6 x 5 = 30\n",
            "6 x 6 = 36\n",
            "6 x 7 = 42\n",
            "6 x 8 = 48\n",
            "6 x 9 = 54\n",
            "7 x 1 = 7\n",
            "7 x 2 = 14\n",
            "7 x 3 = 21\n",
            "7 x 4 = 28\n",
            "7 x 5 = 35\n",
            "7 x 6 = 42\n",
            "7 x 7 = 49\n",
            "7 x 8 = 56\n",
            "7 x 9 = 63\n",
            "8 x 1 = 8\n",
            "8 x 2 = 16\n",
            "8 x 3 = 24\n",
            "8 x 4 = 32\n",
            "8 x 5 = 40\n",
            "8 x 6 = 48\n",
            "8 x 7 = 56\n",
            "8 x 8 = 64\n",
            "8 x 9 = 72\n",
            "9 x 1 = 9\n",
            "9 x 2 = 18\n",
            "9 x 3 = 27\n",
            "9 x 4 = 36\n",
            "9 x 5 = 45\n",
            "9 x 6 = 54\n",
            "9 x 7 = 63\n",
            "9 x 8 = 72\n",
            "9 x 9 = 81\n"
          ],
          "name": "stdout"
        }
      ]
    },
    {
      "cell_type": "code",
      "metadata": {
        "colab": {
          "base_uri": "https://localhost:8080/"
        },
        "id": "20dVorm21NXt",
        "outputId": "c99d78cf-27dc-445e-8e1f-ba277e62cfae"
      },
      "source": [
        "# 조건문\r\n",
        "내돈 = int(input())\r\n",
        "딸기라떼 = 5800\r\n",
        "\r\n",
        "돈_빌려줄_수_있는_친구_여부 = True\r\n",
        "친구가_돈이_있는지 = True\r\n",
        "\r\n",
        "print(내돈)\r\n",
        "print(딸기라떼)\r\n",
        "\r\n",
        "if 내돈 >= 딸기라떼 :\r\n",
        "  print('여깄습니다')\r\n",
        "elif  돈_빌려줄_수_있는_친구_여부 and 친구가_돈이_있는지 :\r\n",
        "  print('돈 좀')\r\n",
        "else :\r\n",
        "  print(';;;')"
      ],
      "execution_count": null,
      "outputs": [
        {
          "output_type": "stream",
          "text": [
            "5000\n",
            "5000\n",
            "5800\n",
            "돈 좀\n"
          ],
          "name": "stdout"
        }
      ]
    }
  ]
}