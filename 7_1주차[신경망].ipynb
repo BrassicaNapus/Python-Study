{
  "nbformat": 4,
  "nbformat_minor": 0,
  "metadata": {
    "colab": {
      "name": "7-1주차[신경망]",
      "provenance": [],
      "authorship_tag": "ABX9TyNRBGpUCIo2qtxvNtNwcXKm",
      "include_colab_link": true
    },
    "kernelspec": {
      "name": "python3",
      "display_name": "Python 3"
    }
  },
  "cells": [
    {
      "cell_type": "markdown",
      "metadata": {
        "id": "view-in-github",
        "colab_type": "text"
      },
      "source": [
        "<a href=\"https://colab.research.google.com/github/yujungha/python-study/blob/main/7_1%EC%A3%BC%EC%B0%A8%5B%EC%8B%A0%EA%B2%BD%EB%A7%9D%5D.ipynb\" target=\"_parent\"><img src=\"https://colab.research.google.com/assets/colab-badge.svg\" alt=\"Open In Colab\"/></a>"
      ]
    },
    {
      "cell_type": "code",
      "metadata": {
        "id": "JH0En-rMp_8S"
      },
      "source": [
        "class nn:\r\n",
        "  def __init__():\r\n",
        "    pass\r\n",
        "\r\n",
        "  def train():\r\n",
        "    pass\r\n",
        "\r\n",
        "  def query():\r\n",
        "    pass"
      ],
      "execution_count": null,
      "outputs": []
    },
    {
      "cell_type": "code",
      "metadata": {
        "colab": {
          "base_uri": "https://localhost:8080/"
        },
        "id": "xbVTIe1N9dWE",
        "outputId": "effa6e55-5526-429f-bda9-ab3d74987e97"
      },
      "source": [
        "x = 4\r\n",
        "y = 12\r\n",
        "w = 4\r\n",
        "a = 0.01\r\n",
        "epoch = 10\r\n",
        "for i in range(epoch):\r\n",
        "  E = (y - x * w) ** 2\r\n",
        "  dEdw = -2 * (y - x * w) *  x\r\n",
        "  w = w - a * dEdw\r\n",
        "  print(w)"
      ],
      "execution_count": null,
      "outputs": [
        {
          "output_type": "stream",
          "text": [
            "3.68\n",
            "3.4624\n",
            "3.314432\n",
            "3.21381376\n",
            "3.1453933568\n",
            "3.098867482624\n",
            "3.06722988818432\n",
            "3.0457163239653378\n",
            "3.0310871002964297\n",
            "3.021139228201572\n"
          ],
          "name": "stdout"
        }
      ]
    },
    {
      "cell_type": "code",
      "metadata": {
        "id": "bs6m0w65_FBE",
        "colab": {
          "base_uri": "https://localhost:8080/"
        },
        "outputId": "9fddcc5c-ce90-4d89-b12f-bd51103ba5a7"
      },
      "source": [
        "x = 2\n",
        "b = 1\n",
        "y = 9\n",
        "w = 3\n",
        "a = 0.05\n",
        "epoch = 10\n",
        "for i in range(epoch):\n",
        "  o = w * x + b\n",
        "  E = (y - o) ** 2\n",
        "  dEdw = -2 * (y - o) * x\n",
        "  dEdb = -2 * (y - o)\n",
        "  w = w - a * dEdw\n",
        "  b = b - a * dEdb\n",
        "  print(E, o)"
      ],
      "execution_count": null,
      "outputs": [
        {
          "output_type": "stream",
          "text": [
            "4 7\n",
            "1.0 8.0\n",
            "0.25 8.5\n",
            "0.0625 8.75\n",
            "0.015625 8.875\n",
            "0.00390625 8.9375\n",
            "0.0009765625 8.96875\n",
            "0.000244140625 8.984375\n",
            "6.103515625e-05 8.9921875\n",
            "1.52587890625e-05 8.99609375\n"
          ],
          "name": "stdout"
        }
      ]
    },
    {
      "cell_type": "code",
      "metadata": {
        "id": "Gfhavg4hv48L"
      },
      "source": [
        "import numpy as np"
      ],
      "execution_count": null,
      "outputs": []
    },
    {
      "cell_type": "code",
      "metadata": {
        "id": "pQOF8QKB27-B"
      },
      "source": [
        "def sigmoid(x, w, b):\n",
        "  return 1 / (1 + np.exp(-(w * x + b)))"
      ],
      "execution_count": null,
      "outputs": []
    },
    {
      "cell_type": "code",
      "metadata": {
        "colab": {
          "base_uri": "https://localhost:8080/"
        },
        "id": "MhPbLaCw4kq4",
        "outputId": "349f5a2c-93de-45e5-e15f-b12c62480574"
      },
      "source": [
        "x = 2\n",
        "b = -8\n",
        "y = 0.5\n",
        "w = 5\n",
        "a = 0.5\n",
        "epoch = 10\n",
        "for i in range(epoch):\n",
        "  E = (y - sigmoid(x, w, b)) ** 2\n",
        "  dEdW = -2 * (y - sigmoid(x, w, b))* w * sigmoid(x, w, b) * (1 - sigmoid(x, w, b))\n",
        "  dEdb = -2 * (y - sigmoid(x, w, b)) * sigmoid(x, w, b) * (1 - sigmoid(x, w, b))\n",
        "  w = w - a * dEdW\n",
        "  b = b - a * dEdb\n",
        "  print(E, sigmoid(x, w, b))"
      ],
      "execution_count": null,
      "outputs": [
        {
          "output_type": "stream",
          "text": [
            "0.14500641459649338 0.8263829456876246\n",
            "0.10652582723573091 0.743420966117499\n",
            "0.05925376674557658 0.6439420387050466\n",
            "0.02071931050656514 0.5674696608643871\n",
            "0.004552155137155409 0.5287787904263948\n",
            "0.0008282187784063502 0.5121394948789243\n",
            "0.00014736733591542918 0.505136379938474\n",
            "2.6382398872358634e-05 0.502179089342468\n",
            "4.748430362457714e-06 0.500925739828107\n",
            "8.569942293434906e-07 0.5003935267334422\n"
          ],
          "name": "stdout"
        }
      ]
    },
    {
      "cell_type": "code",
      "metadata": {
        "id": "futYAOjVBD15"
      },
      "source": [
        "import numpy as np"
      ],
      "execution_count": null,
      "outputs": []
    },
    {
      "cell_type": "code",
      "metadata": {
        "colab": {
          "base_uri": "https://localhost:8080/"
        },
        "id": "50yL9eLH81fr",
        "outputId": "29aa8047-a809-4c09-924e-19b1bdbf84ed"
      },
      "source": [
        "X = np.array([[1, 2]])\r\n",
        "Y = np.array([[2, 1]])\r\n",
        "W = np.array([[0.1, 0.2],\r\n",
        "              [0.3, 0.1]])\r\n",
        "O = X.dot(W)\r\n",
        "print(O)\r\n",
        "E = (Y - O)**2\r\n",
        "print(E)"
      ],
      "execution_count": null,
      "outputs": [
        {
          "output_type": "stream",
          "text": [
            "[[0.7 0.4]]\n",
            "[[1.69 0.36]]\n"
          ],
          "name": "stdout"
        }
      ]
    }
  ]
}