{
  "nbformat": 4,
  "nbformat_minor": 0,
  "metadata": {
    "colab": {
      "name": "1-2주차.ipynb",
      "provenance": [],
      "authorship_tag": "ABX9TyPnkQLSSaZiemCbQbfDRoga",
      "include_colab_link": true
    },
    "kernelspec": {
      "name": "python3",
      "display_name": "Python 3"
    }
  },
  "cells": [
    {
      "cell_type": "markdown",
      "metadata": {
        "id": "view-in-github",
        "colab_type": "text"
      },
      "source": [
        "<a href=\"https://colab.research.google.com/github/yujungha/python-study/blob/main/1_2%EC%A3%BC%EC%B0%A8.ipynb\" target=\"_parent\"><img src=\"https://colab.research.google.com/assets/colab-badge.svg\" alt=\"Open In Colab\"/></a>"
      ]
    },
    {
      "cell_type": "code",
      "metadata": {
        "colab": {
          "base_uri": "https://localhost:8080/"
        },
        "id": "OqIg8zZN2Qnq",
        "outputId": "ca0e3383-a588-41c4-be63-f33e29c84fb7"
      },
      "source": [
        "# 함수\r\n",
        "\r\n",
        "def 함수이름(인자) :\r\n",
        "  return 인자 + 1\r\n",
        "\r\n",
        "print(함수이름(10))"
      ],
      "execution_count": null,
      "outputs": [
        {
          "output_type": "stream",
          "text": [
            "11\n"
          ],
          "name": "stdout"
        }
      ]
    },
    {
      "cell_type": "code",
      "metadata": {
        "colab": {
          "base_uri": "https://localhost:8080/"
        },
        "id": "2l9mnHR72VcY",
        "outputId": "ee6194d5-f6d7-4ea8-9b2b-37083c78b86f"
      },
      "source": [
        "def f(x) :\r\n",
        "  return x + 1\r\n",
        "\r\n",
        "a = f(2)\r\n",
        "\r\n",
        "print(a)"
      ],
      "execution_count": null,
      "outputs": [
        {
          "output_type": "stream",
          "text": [
            "3\n"
          ],
          "name": "stdout"
        }
      ]
    },
    {
      "cell_type": "code",
      "metadata": {
        "id": "QSi4tEAR2Y-n"
      },
      "source": [
        "class Player() :\r\n",
        "  def __init__(self, x, y) :\r\n",
        "    self.x = x\r\n",
        "    self.y = y\r\n",
        "\r\n",
        "  def xMove(self) :\r\n",
        "    self.x = self.x + 1"
      ],
      "execution_count": null,
      "outputs": []
    },
    {
      "cell_type": "code",
      "metadata": {
        "colab": {
          "base_uri": "https://localhost:8080/"
        },
        "id": "qWfqZWm72bYV",
        "outputId": "0cda0ce0-4322-4514-d5f0-2e14f41279a8"
      },
      "source": [
        "p = Player(10, 20)\r\n",
        "print(p.x)\r\n",
        "p.xMove()\r\n",
        "print(p.x)"
      ],
      "execution_count": null,
      "outputs": [
        {
          "output_type": "stream",
          "text": [
            "10\n",
            "11\n"
          ],
          "name": "stdout"
        }
      ]
    },
    {
      "cell_type": "code",
      "metadata": {
        "colab": {
          "base_uri": "https://localhost:8080/"
        },
        "id": "BohRCjTL2dok",
        "outputId": "367e7897-ab6e-495f-b4e4-c059121b5d49"
      },
      "source": [
        "class 붕어빵():\r\n",
        "  def __init__(self):\r\n",
        "    self.팥 = 0\r\n",
        "    self.크림 = 0\r\n",
        "    self.익음 = False\r\n",
        "  \r\n",
        "  def 상태(self):\r\n",
        "    print('팥 :', self.팥)\r\n",
        "    print('크림 :', self.크림)\r\n",
        "    print('익음 :', self.익음)\r\n",
        "\r\n",
        "  def 팥넣기(self, 팥양):\r\n",
        "    if 팥양 > 100:\r\n",
        "      print('팥이 너무 많다')\r\n",
        "    else:\r\n",
        "      self.팥 = self.팥 + 팥양\r\n",
        "      print('팥양이', self.팥, '이 되었습니다')\r\n",
        "\r\n",
        "  def 크림넣기(self, 크림양):\r\n",
        "    if 크림양 > 100:\r\n",
        "      print('크림이 너무 많다')\r\n",
        "    else:\r\n",
        "      self.크림 = self.크림 + 크림양\r\n",
        "      print('크림양이', self.크림, '이 되었습니다')\r\n",
        "\r\n",
        "  def 조리(self, 시간):\r\n",
        "    if 시간 > 300:\r\n",
        "      pirnt('붕어빵이 탔습니다')\r\n",
        "    if self.크림 + self.팥 > 500:\r\n",
        "      print('붕어빵이 조리도중 터졌습니다')\r\n",
        "    self.익음 = True\r\n",
        "    print('잘 익음')\r\n",
        "\r\n",
        "'''\r\n",
        "0은 팥\r\n",
        "1은 크림붕어빵을 요청하는 사람들입니다\r\n",
        "\r\n",
        "적절하게 만들어서 result 리스트 안에 넣어주세요\r\n",
        "\r\n",
        "result.append(만든붕어빵)\r\n",
        "\r\n",
        "'''\r\n",
        "order = [0,0,0,0,1,1,0,1,1,1]\r\n",
        "result = []\r\n",
        "\r\n",
        "for i in range(10):\r\n",
        "  boong = 붕어빵()\r\n",
        "  if order[i] == 0:\r\n",
        "    boong.팥넣기(100)\r\n",
        "  elif order[i] == 1:\r\n",
        "    boong.크림넣기(100)\r\n",
        "  boong.조리(200)\r\n",
        "  boong.상태()"
      ],
      "execution_count": null,
      "outputs": [
        {
          "output_type": "stream",
          "text": [
            "팥양이 100 이 되었습니다\n",
            "잘 익음\n",
            "팥 : 100\n",
            "크림 : 0\n",
            "익음 : True\n",
            "팥양이 100 이 되었습니다\n",
            "잘 익음\n",
            "팥 : 100\n",
            "크림 : 0\n",
            "익음 : True\n",
            "팥양이 100 이 되었습니다\n",
            "잘 익음\n",
            "팥 : 100\n",
            "크림 : 0\n",
            "익음 : True\n",
            "팥양이 100 이 되었습니다\n",
            "잘 익음\n",
            "팥 : 100\n",
            "크림 : 0\n",
            "익음 : True\n",
            "크림양이 100 이 되었습니다\n",
            "잘 익음\n",
            "팥 : 0\n",
            "크림 : 100\n",
            "익음 : True\n",
            "크림양이 100 이 되었습니다\n",
            "잘 익음\n",
            "팥 : 0\n",
            "크림 : 100\n",
            "익음 : True\n",
            "팥양이 100 이 되었습니다\n",
            "잘 익음\n",
            "팥 : 100\n",
            "크림 : 0\n",
            "익음 : True\n",
            "크림양이 100 이 되었습니다\n",
            "잘 익음\n",
            "팥 : 0\n",
            "크림 : 100\n",
            "익음 : True\n",
            "크림양이 100 이 되었습니다\n",
            "잘 익음\n",
            "팥 : 0\n",
            "크림 : 100\n",
            "익음 : True\n",
            "크림양이 100 이 되었습니다\n",
            "잘 익음\n",
            "팥 : 0\n",
            "크림 : 100\n",
            "익음 : True\n"
          ],
          "name": "stdout"
        }
      ]
    },
    {
      "cell_type": "code",
      "metadata": {
        "colab": {
          "base_uri": "https://localhost:8080/"
        },
        "id": "UoYh8fK12g0n",
        "outputId": "ba12f24f-2216-4b29-cf26-42daa19bc357"
      },
      "source": [
        "class 성적표():\r\n",
        "  def __init__(self):\r\n",
        "    self.물전 = 0\r\n",
        "    self.광전 = 0\r\n",
        "    self.신시 = 0\r\n",
        "\r\n",
        "  def 점수(self):\r\n",
        "    print('물전 :', self.물전)\r\n",
        "    print('광전 :', self.광전)\r\n",
        "    print('신시 :', self.신시)\r\n",
        "\r\n",
        "  def 물전시험(self, 물전시험점수):\r\n",
        "    self.물전 = self.물전 + 물전시험점수 * 0.7\r\n",
        "\r\n",
        "  def 물전출석(self, 물전출석점수):\r\n",
        "    self.물전 = self.물전 + 물전출석점수 * 0.1\r\n",
        "\r\n",
        "  def 물전과제(self, 물전과제점수):\r\n",
        "    self.물전 = self.물전 + 물전과제점수 * 0.2\r\n",
        "\r\n",
        "  def 물전학점(self):\r\n",
        "    if self.물전 >= 90:\r\n",
        "      print('A+')\r\n",
        "    elif self.물전 >= 80:\r\n",
        "      print('A0')\r\n",
        "    elif self.물전 >= 70:\r\n",
        "      print('B+')\r\n",
        "    elif self.물전 >= 60:\r\n",
        "      print('B0')\r\n",
        "    else:\r\n",
        "      print('C+')\r\n",
        "\r\n",
        "  def 광전시험(self, 광전시험점수):\r\n",
        "    self.광전 = self.광전 + 광전시험점수 * 0.7\r\n",
        "\r\n",
        "  def 광전출석(self, 광전출석점수):\r\n",
        "    self.광전 = self.광전 + 광전출석점수 * 0.1\r\n",
        "\r\n",
        "  def 광전과제(self, 광전과제점수):\r\n",
        "    self.광전 = self.광전 + 광전과제점수 * 0.2\r\n",
        "\r\n",
        "  def 광전학점(self):\r\n",
        "    if self.광전 >= 90:\r\n",
        "      print('A+')\r\n",
        "    elif self.광전 >= 80:\r\n",
        "      print('A0')\r\n",
        "    elif self.광전 >= 70:\r\n",
        "      print('B+')\r\n",
        "    elif self.광전 >= 60:\r\n",
        "      print('B0')\r\n",
        "    else:\r\n",
        "      print('C+')\r\n",
        "\r\n",
        "  def 신시시험(self, 신시시험점수):\r\n",
        "    self.신시 = self.신시 + 신시시험점수 * 0.7\r\n",
        "\r\n",
        "  def 신시출석(self, 신시출석점수):\r\n",
        "    self.신시 = self.신시 + 신시출석점수 * 0.1\r\n",
        "  \r\n",
        "  def 신시과제(self, 신시과제점수):\r\n",
        "    self.신시 = self.신시 + 신시과제점수 * 0.2\r\n",
        "\r\n",
        "  def 신시학점(self):\r\n",
        "    if self.신시 >= 90:\r\n",
        "      print('A+')\r\n",
        "    elif self.신시 >= 80:\r\n",
        "      print('A0')\r\n",
        "    elif self.신시 >= 70:\r\n",
        "      print('B+')\r\n",
        "    elif self.신시 >= 60:\r\n",
        "      print('B0')\r\n",
        "    else:\r\n",
        "      print('C+')\r\n",
        "\r\n",
        "내성적 = 성적표()\r\n",
        "내성적.물전시험(50)\r\n",
        "내성적.물전출석(100)\r\n",
        "내성적.물전과제(100)\r\n",
        "내성적.광전시험(90)\r\n",
        "내성적.광전출석(100)\r\n",
        "내성적.광전과제(100)\r\n",
        "내성적.신시시험(50)\r\n",
        "내성적.신시출석(100)\r\n",
        "내성적.신시과제(40)\r\n",
        "내성적.점수()\r\n",
        "내성적.물전학점()\r\n",
        "내성적.광전학점()\r\n",
        "내성적.신시학점()"
      ],
      "execution_count": null,
      "outputs": [
        {
          "output_type": "stream",
          "text": [
            "물전 : 65.0\n",
            "광전 : 93.0\n",
            "신시 : 53.0\n",
            "B0\n",
            "A+\n",
            "C+\n"
          ],
          "name": "stdout"
        }
      ]
    }
  ]
}