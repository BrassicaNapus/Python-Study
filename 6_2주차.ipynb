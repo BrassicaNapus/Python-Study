{
  "nbformat": 4,
  "nbformat_minor": 0,
  "metadata": {
    "colab": {
      "name": "6-2주차.ipynb",
      "provenance": [],
      "authorship_tag": "ABX9TyOAXWXnw31TKroAi9XU3vwP",
      "include_colab_link": true
    },
    "kernelspec": {
      "name": "python3",
      "display_name": "Python 3"
    }
  },
  "cells": [
    {
      "cell_type": "markdown",
      "metadata": {
        "id": "view-in-github",
        "colab_type": "text"
      },
      "source": [
        "<a href=\"https://colab.research.google.com/github/yujungha/python-study/blob/main/6_2%EC%A3%BC%EC%B0%A8.ipynb\" target=\"_parent\"><img src=\"https://colab.research.google.com/assets/colab-badge.svg\" alt=\"Open In Colab\"/></a>"
      ]
    },
    {
      "cell_type": "code",
      "metadata": {
        "id": "EnMRCsa6wc5O"
      },
      "source": [
        "import pandas as pd\r\n",
        "import numpy as np"
      ],
      "execution_count": null,
      "outputs": []
    },
    {
      "cell_type": "code",
      "metadata": {
        "id": "maD4-TtLwppD"
      },
      "source": [
        "f = open('눌하.txt', mode='rt', encoding='utf-8')\r\n",
        "\r\n",
        "first_text = f.readline()\r\n",
        "name_area = first_text[:first_text.rfind(' 님')]\r\n",
        "names = name_area.split(', ')\r\n",
        "names.append('유정하')\r\n",
        "print('채팅방에 있는 사람')\r\n",
        "for name in names:\r\n",
        "  print(name)\r\n",
        "print(f.readline(), end='')\r\n",
        "print(f.readline(), end='')\r\n",
        "\r\n",
        "date = ''\r\n",
        "arr = []\r\n",
        "for line in f:\r\n",
        "  if line[0] == '-':\r\n",
        "    date = line.split('---------------')[1].strip()\r\n",
        "  elif line[0] == '[':\r\n",
        "    a = line\r\n",
        "    name = a[1:a.find(']')]\r\n",
        "    time = a[a.find(']')+3:]\r\n",
        "    message = time[time.find('] ')+2:-1]\r\n",
        "    time = time[:time.find(']')]\r\n",
        "\r\n",
        "    arr.append([name, time, message])\r\n",
        "df = pd.DataFrame(arr, columns =['name', 'time', 'message'])\r\n",
        "# df['name'] = df['name'].str.replace('19 곽누리', '곽누리')\r\n",
        "# df['name'] = df['name'].str.replace('19 김은하', '김은하')\r\n",
        "# df\r\n",
        "\r\n",
        "new_names = ['곽누리', '김은하', '유정하']\r\n",
        "for i in range(len(names)):\r\n",
        "  df['name'] = df['name'].str.replace(names[i], new_names[i])\r\n",
        "df"
      ],
      "execution_count": null,
      "outputs": []
    },
    {
      "cell_type": "code",
      "metadata": {
        "id": "DtYV5ufcChVj"
      },
      "source": [
        "df[df['message'] == 'ㅋ']"
      ],
      "execution_count": null,
      "outputs": []
    },
    {
      "cell_type": "code",
      "metadata": {
        "id": "XP_8-F7CFbPS"
      },
      "source": [
        "df[df['message'].str.contains('정하')]"
      ],
      "execution_count": null,
      "outputs": []
    },
    {
      "cell_type": "code",
      "metadata": {
        "id": "Kve4FUeZCOKH"
      },
      "source": [
        "a = []\r\n",
        "for i in range(len(new_names)):\r\n",
        "  print(new_names[i][1:])\r\n",
        "  a.append(len(df[df['message'].str.contains(new_names[i][1:])]))\r\n",
        "a"
      ],
      "execution_count": null,
      "outputs": []
    },
    {
      "cell_type": "code",
      "metadata": {
        "colab": {
          "base_uri": "https://localhost:8080/",
          "height": 265
        },
        "id": "DoHVjURmE6cm",
        "outputId": "4a8bd77d-b515-471c-9a81-349e8c5dd5de"
      },
      "source": [
        "import matplotlib.pyplot as plt\r\n",
        "plt.plot(a)\r\n",
        "plt.show()"
      ],
      "execution_count": null,
      "outputs": [
        {
          "output_type": "display_data",
          "data": {
            "image/png": "[encoded data removed]",
            "text/plain": [
              "<Figure size 432x288 with 1 Axes>"
            ]
          },
          "metadata": {
            "tags": [],
            "needs_background": "light"
          }
        }
      ]
    },
    {
      "cell_type": "code",
      "metadata": {
        "colab": {
          "base_uri": "https://localhost:8080/"
        },
        "id": "zU_68lmF_IZp",
        "outputId": "caa76cbf-11a1-4253-db22-88283db226a9"
      },
      "source": [
        "df['message'].str.contains('ㅋㅋㅋ')"
      ],
      "execution_count": null,
      "outputs": [
        {
          "output_type": "execute_result",
          "data": {
            "text/plain": [
              "0       False\n",
              "1       False\n",
              "2       False\n",
              "3       False\n",
              "4       False\n",
              "        ...  \n",
              "2812     True\n",
              "2813    False\n",
              "2814    False\n",
              "2815    False\n",
              "2816    False\n",
              "Name: message, Length: 2817, dtype: bool"
            ]
          },
          "metadata": {
            "tags": []
          },
          "execution_count": 31
        }
      ]
    },
    {
      "cell_type": "code",
      "metadata": {
        "id": "LRE2CTckEtZZ"
      },
      "source": [
        "a = '[19 김은하] [오후 6:46] 애들아'\r\n",
        "time = a[a.find(']')+3:]\r\n",
        "message = time[time.find('] ')+2:]\r\n",
        "print(message)"
      ],
      "execution_count": null,
      "outputs": []
    },
    {
      "cell_type": "code",
      "metadata": {
        "id": "UoO_G7GwL6Eo"
      },
      "source": [
        "f = open('애기덜.txt', mode='rt', encoding='utf-8')\r\n",
        "\r\n",
        "date = ''\r\n",
        "arr = []\r\n",
        "for line in f:\r\n",
        "  if line[0] == '-':\r\n",
        "    date = line.split('---------------')[1].strip()\r\n",
        "  elif line[0] == '[':\r\n",
        "    a = line\r\n",
        "    name = a[1:a.find(']')]\r\n",
        "    time = a[a.find(']')+3:]\r\n",
        "    message = time[time.find('] ')+2:-1]\r\n",
        "    time = time[:time.find(']')]\r\n",
        "\r\n",
        "    arr.append([name, time, message])\r\n",
        "df = pd.DataFrame(arr, columns =['name', 'time', 'message'])\r\n",
        "df[df['name'].duplicated() != True]['name'].values"
      ],
      "execution_count": null,
      "outputs": []
    }
  ]
}